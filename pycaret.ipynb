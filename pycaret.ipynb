{
 "cells": [
  {
   "cell_type": "code",
   "execution_count": 1,
   "id": "e0a587c6-ba83-4144-8170-f414c2aa371a",
   "metadata": {
    "id": "xYdCQ8DSN2T5"
   },
   "outputs": [],
   "source": [
    "import os\n",
    "import sys\n",
    "import datetime as dt\n",
    "#import missingno as mno \n",
    "import warnings\n",
    "warnings.filterwarnings(\"ignore\")\n",
    "import logging\n",
    "logging.disable(logging.CRITICAL)"
   ]
  },
  {
   "cell_type": "code",
   "execution_count": 2,
   "id": "ff936634-5952-4c26-bae4-3dcf68ee29d6",
   "metadata": {},
   "outputs": [],
   "source": [
    "import matplotlib.pyplot as plt\n",
    "import numpy as np\n",
    "import pandas as pd\n",
    "import seaborn as sns\n",
    "import plotly.express as px\n",
    "from statsmodels.tsa.stattools import adfuller, kpss, grangercausalitytests\n",
    "from statsmodels.tsa.api import VAR\n",
    "from sklearn.model_selection import train_test_split\n",
    "from sklearn.preprocessing import StandardScaler\n",
    "from sklearn.decomposition import PCA\n",
    "from sklearn.pipeline import Pipeline\n",
    "from numpy import log\n",
    "import pycaret\n"
   ]
  },
  {
   "cell_type": "code",
   "execution_count": 3,
   "id": "4b7c0c45-940e-4586-a0e0-796b2f9ed8b3",
   "metadata": {},
   "outputs": [],
   "source": [
    "df= pd.read_csv(\"soil.csv\")\n",
    "df= df.rename(columns= {\"segment1(10-30cm)\":\"moisture\"})\n",
    "df[\"index\"] = pd.to_datetime(df[\"date\"])\n",
    "df.set_index(['index'],inplace= True)\n",
    "df.drop(columns=[\"date\"], inplace=True)"
   ]
  },
  {
   "cell_type": "code",
   "execution_count": 17,
   "id": "63c83cb0",
   "metadata": {},
   "outputs": [],
   "source": [
    "target = 'moisture'\n",
    "data_for_modeling = df[df.index < '2022-09-21'].reset_index(drop=True)\n",
    "future_df = df[df.index  >= '2022-09-21'].reset_index(drop=True)\n",
    "future_exog = future_df.drop(columns=target)"
   ]
  },
  {
   "cell_type": "code",
   "execution_count": 5,
   "id": "7d4e9f33",
   "metadata": {},
   "outputs": [
    {
     "data": {
      "text/html": [
       "<div>\n",
       "<style scoped>\n",
       "    .dataframe tbody tr th:only-of-type {\n",
       "        vertical-align: middle;\n",
       "    }\n",
       "\n",
       "    .dataframe tbody tr th {\n",
       "        vertical-align: top;\n",
       "    }\n",
       "\n",
       "    .dataframe thead th {\n",
       "        text-align: right;\n",
       "    }\n",
       "</style>\n",
       "<table border=\"1\" class=\"dataframe\">\n",
       "  <thead>\n",
       "    <tr style=\"text-align: right;\">\n",
       "      <th></th>\n",
       "      <th>index</th>\n",
       "      <th>Magna_6 Wind Direction</th>\n",
       "      <th>Magna_6 Wind Speed (m/s)</th>\n",
       "      <th>Magna_6 Meteo Ambient Temperature (C)</th>\n",
       "      <th>Magna_6 Meteo Air Pressure (hpa)</th>\n",
       "      <th>Magna_6 Meteo Relative Humidity</th>\n",
       "      <th>Magna_6 Meteo Dew Point Temperature (C)</th>\n",
       "      <th>Power Supply (V)</th>\n",
       "      <th>Magna_6 Water EC muS/cm</th>\n",
       "      <th>Magna_6 Water Level Above Sensor mm</th>\n",
       "      <th>...</th>\n",
       "      <th>Magna_6 PH</th>\n",
       "      <th>Magna_6 ORP_mV</th>\n",
       "      <th>Magna_6 pH_Sensor_Temperature_C</th>\n",
       "      <th>Magna_6 Precipitation_24hr_mm</th>\n",
       "      <th>Magna_6 Cumulative Precipitation_mm</th>\n",
       "      <th>Magna_6 CTD_Temperature_C</th>\n",
       "      <th>CTD_Pressure_BAR</th>\n",
       "      <th>CTD_Conductivity__mS</th>\n",
       "      <th>Metres above MSL</th>\n",
       "      <th>TOW _MH2O</th>\n",
       "    </tr>\n",
       "  </thead>\n",
       "  <tbody>\n",
       "    <tr>\n",
       "      <th>0</th>\n",
       "      <td>2022-06-01 00:08:00+00:00</td>\n",
       "      <td>328.2</td>\n",
       "      <td>0.5</td>\n",
       "      <td>7.1</td>\n",
       "      <td>988.9</td>\n",
       "      <td>98.3</td>\n",
       "      <td>6.9</td>\n",
       "      <td>13.115</td>\n",
       "      <td>264.5</td>\n",
       "      <td>1685.9</td>\n",
       "      <td>...</td>\n",
       "      <td>6.079516</td>\n",
       "      <td>-423.538344</td>\n",
       "      <td>9.135341</td>\n",
       "      <td>55.0</td>\n",
       "      <td>308.0</td>\n",
       "      <td>8.848389</td>\n",
       "      <td>0.165328</td>\n",
       "      <td>0.264529</td>\n",
       "      <td>206.26</td>\n",
       "      <td>0.77</td>\n",
       "    </tr>\n",
       "    <tr>\n",
       "      <th>1</th>\n",
       "      <td>2022-06-01 00:18:00+00:00</td>\n",
       "      <td>0.0</td>\n",
       "      <td>0.0</td>\n",
       "      <td>7.1</td>\n",
       "      <td>988.9</td>\n",
       "      <td>98.4</td>\n",
       "      <td>6.9</td>\n",
       "      <td>13.087</td>\n",
       "      <td>264.5</td>\n",
       "      <td>1685.2</td>\n",
       "      <td>...</td>\n",
       "      <td>6.079516</td>\n",
       "      <td>-423.538344</td>\n",
       "      <td>9.135341</td>\n",
       "      <td>0.0</td>\n",
       "      <td>308.0</td>\n",
       "      <td>8.848389</td>\n",
       "      <td>0.165260</td>\n",
       "      <td>0.264529</td>\n",
       "      <td>206.26</td>\n",
       "      <td>0.77</td>\n",
       "    </tr>\n",
       "    <tr>\n",
       "      <th>2</th>\n",
       "      <td>2022-06-01 00:28:00+00:00</td>\n",
       "      <td>26.3</td>\n",
       "      <td>0.4</td>\n",
       "      <td>7.0</td>\n",
       "      <td>988.9</td>\n",
       "      <td>98.5</td>\n",
       "      <td>6.8</td>\n",
       "      <td>13.087</td>\n",
       "      <td>264.6</td>\n",
       "      <td>1686.2</td>\n",
       "      <td>...</td>\n",
       "      <td>6.079516</td>\n",
       "      <td>-423.538344</td>\n",
       "      <td>9.135341</td>\n",
       "      <td>0.0</td>\n",
       "      <td>308.0</td>\n",
       "      <td>8.848389</td>\n",
       "      <td>0.165357</td>\n",
       "      <td>0.264641</td>\n",
       "      <td>206.26</td>\n",
       "      <td>0.77</td>\n",
       "    </tr>\n",
       "    <tr>\n",
       "      <th>3</th>\n",
       "      <td>2022-06-01 00:38:00+00:00</td>\n",
       "      <td>255.3</td>\n",
       "      <td>0.5</td>\n",
       "      <td>7.0</td>\n",
       "      <td>989.0</td>\n",
       "      <td>98.8</td>\n",
       "      <td>6.8</td>\n",
       "      <td>13.087</td>\n",
       "      <td>264.7</td>\n",
       "      <td>1686.3</td>\n",
       "      <td>...</td>\n",
       "      <td>6.079516</td>\n",
       "      <td>-423.538344</td>\n",
       "      <td>9.135341</td>\n",
       "      <td>0.0</td>\n",
       "      <td>308.0</td>\n",
       "      <td>8.848389</td>\n",
       "      <td>0.165365</td>\n",
       "      <td>0.264703</td>\n",
       "      <td>206.26</td>\n",
       "      <td>0.77</td>\n",
       "    </tr>\n",
       "    <tr>\n",
       "      <th>4</th>\n",
       "      <td>2022-06-01 00:48:00+00:00</td>\n",
       "      <td>292.4</td>\n",
       "      <td>0.4</td>\n",
       "      <td>6.7</td>\n",
       "      <td>988.9</td>\n",
       "      <td>98.5</td>\n",
       "      <td>6.5</td>\n",
       "      <td>13.087</td>\n",
       "      <td>264.8</td>\n",
       "      <td>1686.5</td>\n",
       "      <td>...</td>\n",
       "      <td>6.079516</td>\n",
       "      <td>-423.538344</td>\n",
       "      <td>9.135341</td>\n",
       "      <td>0.0</td>\n",
       "      <td>308.0</td>\n",
       "      <td>8.848389</td>\n",
       "      <td>0.165394</td>\n",
       "      <td>0.264754</td>\n",
       "      <td>206.26</td>\n",
       "      <td>0.77</td>\n",
       "    </tr>\n",
       "    <tr>\n",
       "      <th>...</th>\n",
       "      <td>...</td>\n",
       "      <td>...</td>\n",
       "      <td>...</td>\n",
       "      <td>...</td>\n",
       "      <td>...</td>\n",
       "      <td>...</td>\n",
       "      <td>...</td>\n",
       "      <td>...</td>\n",
       "      <td>...</td>\n",
       "      <td>...</td>\n",
       "      <td>...</td>\n",
       "      <td>...</td>\n",
       "      <td>...</td>\n",
       "      <td>...</td>\n",
       "      <td>...</td>\n",
       "      <td>...</td>\n",
       "      <td>...</td>\n",
       "      <td>...</td>\n",
       "      <td>...</td>\n",
       "      <td>...</td>\n",
       "      <td>...</td>\n",
       "    </tr>\n",
       "    <tr>\n",
       "      <th>17370</th>\n",
       "      <td>2022-08-31 23:18:00+00:00</td>\n",
       "      <td>94.3</td>\n",
       "      <td>1.0</td>\n",
       "      <td>10.8</td>\n",
       "      <td>1003.4</td>\n",
       "      <td>95.4</td>\n",
       "      <td>10.1</td>\n",
       "      <td>13.121</td>\n",
       "      <td>299.2</td>\n",
       "      <td>1467.7</td>\n",
       "      <td>...</td>\n",
       "      <td>6.514780</td>\n",
       "      <td>-470.635000</td>\n",
       "      <td>10.749700</td>\n",
       "      <td>0.0</td>\n",
       "      <td>1006.0</td>\n",
       "      <td>10.471558</td>\n",
       "      <td>0.143930</td>\n",
       "      <td>0.299207</td>\n",
       "      <td>206.04</td>\n",
       "      <td>0.98</td>\n",
       "    </tr>\n",
       "    <tr>\n",
       "      <th>17371</th>\n",
       "      <td>2022-08-31 23:28:00+00:00</td>\n",
       "      <td>120.6</td>\n",
       "      <td>0.9</td>\n",
       "      <td>10.9</td>\n",
       "      <td>1003.4</td>\n",
       "      <td>95.8</td>\n",
       "      <td>10.2</td>\n",
       "      <td>13.121</td>\n",
       "      <td>299.1</td>\n",
       "      <td>1467.6</td>\n",
       "      <td>...</td>\n",
       "      <td>6.510270</td>\n",
       "      <td>-470.527000</td>\n",
       "      <td>10.748000</td>\n",
       "      <td>0.0</td>\n",
       "      <td>1006.0</td>\n",
       "      <td>10.471558</td>\n",
       "      <td>0.143923</td>\n",
       "      <td>0.299149</td>\n",
       "      <td>206.04</td>\n",
       "      <td>0.98</td>\n",
       "    </tr>\n",
       "    <tr>\n",
       "      <th>17372</th>\n",
       "      <td>2022-08-31 23:38:00+00:00</td>\n",
       "      <td>54.2</td>\n",
       "      <td>0.7</td>\n",
       "      <td>11.0</td>\n",
       "      <td>1003.3</td>\n",
       "      <td>96.4</td>\n",
       "      <td>10.5</td>\n",
       "      <td>13.121</td>\n",
       "      <td>299.2</td>\n",
       "      <td>1467.6</td>\n",
       "      <td>...</td>\n",
       "      <td>6.511560</td>\n",
       "      <td>-470.527000</td>\n",
       "      <td>10.749700</td>\n",
       "      <td>0.0</td>\n",
       "      <td>1006.0</td>\n",
       "      <td>10.467346</td>\n",
       "      <td>0.143918</td>\n",
       "      <td>0.299207</td>\n",
       "      <td>206.04</td>\n",
       "      <td>0.98</td>\n",
       "    </tr>\n",
       "    <tr>\n",
       "      <th>17373</th>\n",
       "      <td>2022-08-31 23:48:00+00:00</td>\n",
       "      <td>84.2</td>\n",
       "      <td>1.4</td>\n",
       "      <td>11.2</td>\n",
       "      <td>1003.3</td>\n",
       "      <td>96.7</td>\n",
       "      <td>10.7</td>\n",
       "      <td>13.121</td>\n",
       "      <td>299.2</td>\n",
       "      <td>1467.6</td>\n",
       "      <td>...</td>\n",
       "      <td>6.501210</td>\n",
       "      <td>-470.635000</td>\n",
       "      <td>10.749700</td>\n",
       "      <td>0.0</td>\n",
       "      <td>1006.0</td>\n",
       "      <td>10.467346</td>\n",
       "      <td>0.143919</td>\n",
       "      <td>0.299207</td>\n",
       "      <td>206.04</td>\n",
       "      <td>0.98</td>\n",
       "    </tr>\n",
       "    <tr>\n",
       "      <th>17374</th>\n",
       "      <td>2022-08-31 23:58:00+00:00</td>\n",
       "      <td>80.1</td>\n",
       "      <td>2.2</td>\n",
       "      <td>11.3</td>\n",
       "      <td>1003.2</td>\n",
       "      <td>96.7</td>\n",
       "      <td>10.8</td>\n",
       "      <td>13.108</td>\n",
       "      <td>299.1</td>\n",
       "      <td>1467.5</td>\n",
       "      <td>...</td>\n",
       "      <td>6.264370</td>\n",
       "      <td>-473.327000</td>\n",
       "      <td>10.748000</td>\n",
       "      <td>0.0</td>\n",
       "      <td>1006.0</td>\n",
       "      <td>10.471558</td>\n",
       "      <td>0.143916</td>\n",
       "      <td>0.299083</td>\n",
       "      <td>206.04</td>\n",
       "      <td>0.98</td>\n",
       "    </tr>\n",
       "  </tbody>\n",
       "</table>\n",
       "<p>17375 rows × 22 columns</p>\n",
       "</div>"
      ],
      "text/plain": [
       "                          index  Magna_6 Wind Direction  \\\n",
       "0     2022-06-01 00:08:00+00:00                   328.2   \n",
       "1     2022-06-01 00:18:00+00:00                     0.0   \n",
       "2     2022-06-01 00:28:00+00:00                    26.3   \n",
       "3     2022-06-01 00:38:00+00:00                   255.3   \n",
       "4     2022-06-01 00:48:00+00:00                   292.4   \n",
       "...                         ...                     ...   \n",
       "17370 2022-08-31 23:18:00+00:00                    94.3   \n",
       "17371 2022-08-31 23:28:00+00:00                   120.6   \n",
       "17372 2022-08-31 23:38:00+00:00                    54.2   \n",
       "17373 2022-08-31 23:48:00+00:00                    84.2   \n",
       "17374 2022-08-31 23:58:00+00:00                    80.1   \n",
       "\n",
       "       Magna_6 Wind Speed (m/s)  Magna_6 Meteo Ambient Temperature (C)  \\\n",
       "0                           0.5                                    7.1   \n",
       "1                           0.0                                    7.1   \n",
       "2                           0.4                                    7.0   \n",
       "3                           0.5                                    7.0   \n",
       "4                           0.4                                    6.7   \n",
       "...                         ...                                    ...   \n",
       "17370                       1.0                                   10.8   \n",
       "17371                       0.9                                   10.9   \n",
       "17372                       0.7                                   11.0   \n",
       "17373                       1.4                                   11.2   \n",
       "17374                       2.2                                   11.3   \n",
       "\n",
       "       Magna_6 Meteo Air Pressure (hpa)  Magna_6 Meteo Relative Humidity  \\\n",
       "0                                 988.9                             98.3   \n",
       "1                                 988.9                             98.4   \n",
       "2                                 988.9                             98.5   \n",
       "3                                 989.0                             98.8   \n",
       "4                                 988.9                             98.5   \n",
       "...                                 ...                              ...   \n",
       "17370                            1003.4                             95.4   \n",
       "17371                            1003.4                             95.8   \n",
       "17372                            1003.3                             96.4   \n",
       "17373                            1003.3                             96.7   \n",
       "17374                            1003.2                             96.7   \n",
       "\n",
       "       Magna_6 Meteo Dew Point Temperature (C)  Power Supply (V)  \\\n",
       "0                                          6.9            13.115   \n",
       "1                                          6.9            13.087   \n",
       "2                                          6.8            13.087   \n",
       "3                                          6.8            13.087   \n",
       "4                                          6.5            13.087   \n",
       "...                                        ...               ...   \n",
       "17370                                     10.1            13.121   \n",
       "17371                                     10.2            13.121   \n",
       "17372                                     10.5            13.121   \n",
       "17373                                     10.7            13.121   \n",
       "17374                                     10.8            13.108   \n",
       "\n",
       "       Magna_6 Water EC muS/cm  Magna_6 Water Level Above Sensor mm  ...  \\\n",
       "0                        264.5                               1685.9  ...   \n",
       "1                        264.5                               1685.2  ...   \n",
       "2                        264.6                               1686.2  ...   \n",
       "3                        264.7                               1686.3  ...   \n",
       "4                        264.8                               1686.5  ...   \n",
       "...                        ...                                  ...  ...   \n",
       "17370                    299.2                               1467.7  ...   \n",
       "17371                    299.1                               1467.6  ...   \n",
       "17372                    299.2                               1467.6  ...   \n",
       "17373                    299.2                               1467.6  ...   \n",
       "17374                    299.1                               1467.5  ...   \n",
       "\n",
       "       Magna_6 PH  Magna_6 ORP_mV  Magna_6 pH_Sensor_Temperature_C  \\\n",
       "0        6.079516     -423.538344                         9.135341   \n",
       "1        6.079516     -423.538344                         9.135341   \n",
       "2        6.079516     -423.538344                         9.135341   \n",
       "3        6.079516     -423.538344                         9.135341   \n",
       "4        6.079516     -423.538344                         9.135341   \n",
       "...           ...             ...                              ...   \n",
       "17370    6.514780     -470.635000                        10.749700   \n",
       "17371    6.510270     -470.527000                        10.748000   \n",
       "17372    6.511560     -470.527000                        10.749700   \n",
       "17373    6.501210     -470.635000                        10.749700   \n",
       "17374    6.264370     -473.327000                        10.748000   \n",
       "\n",
       "       Magna_6 Precipitation_24hr_mm  Magna_6 Cumulative Precipitation_mm  \\\n",
       "0                               55.0                                308.0   \n",
       "1                                0.0                                308.0   \n",
       "2                                0.0                                308.0   \n",
       "3                                0.0                                308.0   \n",
       "4                                0.0                                308.0   \n",
       "...                              ...                                  ...   \n",
       "17370                            0.0                               1006.0   \n",
       "17371                            0.0                               1006.0   \n",
       "17372                            0.0                               1006.0   \n",
       "17373                            0.0                               1006.0   \n",
       "17374                            0.0                               1006.0   \n",
       "\n",
       "       Magna_6 CTD_Temperature_C  CTD_Pressure_BAR  CTD_Conductivity__mS  \\\n",
       "0                       8.848389          0.165328              0.264529   \n",
       "1                       8.848389          0.165260              0.264529   \n",
       "2                       8.848389          0.165357              0.264641   \n",
       "3                       8.848389          0.165365              0.264703   \n",
       "4                       8.848389          0.165394              0.264754   \n",
       "...                          ...               ...                   ...   \n",
       "17370                  10.471558          0.143930              0.299207   \n",
       "17371                  10.471558          0.143923              0.299149   \n",
       "17372                  10.467346          0.143918              0.299207   \n",
       "17373                  10.467346          0.143919              0.299207   \n",
       "17374                  10.471558          0.143916              0.299083   \n",
       "\n",
       "       Metres above MSL  TOW _MH2O  \n",
       "0                206.26       0.77  \n",
       "1                206.26       0.77  \n",
       "2                206.26       0.77  \n",
       "3                206.26       0.77  \n",
       "4                206.26       0.77  \n",
       "...                 ...        ...  \n",
       "17370            206.04       0.98  \n",
       "17371            206.04       0.98  \n",
       "17372            206.04       0.98  \n",
       "17373            206.04       0.98  \n",
       "17374            206.04       0.98  \n",
       "\n",
       "[17375 rows x 22 columns]"
      ]
     },
     "execution_count": 5,
     "metadata": {},
     "output_type": "execute_result"
    }
   ],
   "source": [
    "data_for_modeling"
   ]
  },
  {
   "cell_type": "code",
   "execution_count": 6,
   "id": "b8d4d389",
   "metadata": {},
   "outputs": [
    {
     "name": "stdout",
     "output_type": "stream",
     "text": [
      "<class 'pandas.core.frame.DataFrame'>\n",
      "DatetimeIndex: 23267 entries, 2022-06-01 00:08:00+00:00 to 2022-10-31 23:58:00+00:00\n",
      "Data columns (total 21 columns):\n",
      " #   Column                                   Non-Null Count  Dtype  \n",
      "---  ------                                   --------------  -----  \n",
      " 0   Magna_6 Wind Direction                   23267 non-null  float64\n",
      " 1   Magna_6 Wind Speed (m/s)                 23267 non-null  float64\n",
      " 2   Magna_6 Meteo Ambient Temperature (C)    23267 non-null  float64\n",
      " 3   Magna_6 Meteo Air Pressure (hpa)         23267 non-null  float64\n",
      " 4   Magna_6 Meteo Relative Humidity          23267 non-null  float64\n",
      " 5   Magna_6 Meteo Dew Point Temperature (C)  23267 non-null  float64\n",
      " 6   Power Supply (V)                         23267 non-null  float64\n",
      " 7   Magna_6 Water EC muS/cm                  23267 non-null  float64\n",
      " 8   Magna_6 Water Level Above Sensor mm      23267 non-null  float64\n",
      " 9   moisture                                 23267 non-null  float64\n",
      " 10  segment1(EC)                             23267 non-null  float64\n",
      " 11  Magna_6 PH                               23267 non-null  float64\n",
      " 12  Magna_6 ORP_mV                           23267 non-null  float64\n",
      " 13  Magna_6 pH_Sensor_Temperature_C          23267 non-null  float64\n",
      " 14  Magna_6 Precipitation_24hr_mm            23267 non-null  float64\n",
      " 15  Magna_6 Cumulative Precipitation_mm      23267 non-null  float64\n",
      " 16  Magna_6 CTD_Temperature_C                23267 non-null  float64\n",
      " 17  CTD_Pressure_BAR                         23267 non-null  float64\n",
      " 18  CTD_Conductivity__mS                     23267 non-null  float64\n",
      " 19  Metres above MSL                         23267 non-null  float64\n",
      " 20  TOW _MH2O                                23267 non-null  float64\n",
      "dtypes: float64(21)\n",
      "memory usage: 3.9 MB\n"
     ]
    }
   ],
   "source": [
    "df.info()"
   ]
  },
  {
   "cell_type": "code",
   "execution_count": null,
   "id": "e72cd2ee",
   "metadata": {},
   "outputs": [],
   "source": [
    "df.loc[df.index.duplicated(),: ]"
   ]
  },
  {
   "cell_type": "markdown",
   "id": "489500d9-d753-4a69-920b-57121dc15ede",
   "metadata": {
    "tags": []
   },
   "source": [
    "Pycaret TS Model\n",
    "--"
   ]
  },
  {
   "cell_type": "code",
   "execution_count": 7,
   "id": "29d669e5-61c4-4223-aaa1-9409cd3bf6d1",
   "metadata": {},
   "outputs": [
    {
     "name": "stdout",
     "output_type": "stream",
     "text": [
      "\n",
      "System:\n",
      "    python: 3.7.16 (default, Dec  7 2022, 01:34:15)  [Clang 14.0.0 (clang-1400.0.29.202)]\n",
      "executable: /Users/sage/Documents/soil/myvenv7/bin/python\n",
      "   machine: Darwin-21.6.0-x86_64-i386-64bit\n",
      "\n",
      "PyCaret required dependencies:\n",
      "                 pip: 22.0.4\n",
      "          setuptools: 47.1.0\n",
      "             pycaret: 3.0.0rc8\n",
      "             IPython: 7.34.0\n",
      "          ipywidgets: 8.0.4\n",
      "                tqdm: 4.64.1\n",
      "               numpy: 1.21.6\n",
      "              pandas: 1.3.5\n",
      "              jinja2: 3.1.2\n",
      "               scipy: 1.5.4\n",
      "              joblib: 1.2.0\n",
      "             sklearn: 1.0.2\n",
      "                pyod: 1.0.7\n",
      "            imblearn: 0.10.1\n",
      "   category_encoders: 2.5.1.post0\n",
      "            lightgbm: 3.3.4\n",
      "               numba: 0.56.4\n",
      "            requests: 2.28.1\n",
      "          matplotlib: 3.5.3\n",
      "          scikitplot: 0.3.7\n",
      "         yellowbrick: 1.5\n",
      "              plotly: 5.11.0\n",
      "             kaleido: 0.2.1\n",
      "         statsmodels: 0.13.5\n",
      "              sktime: 0.15.1\n",
      "               tbats: 1.1.2\n",
      "            pmdarima: 2.0.2\n",
      "              psutil: 5.9.4\n",
      "\n",
      "PyCaret optional dependencies:\n",
      "                shap: Not installed\n",
      "           interpret: Not installed\n",
      "                umap: 0.5.3\n",
      "    pandas_profiling: 3.6.2\n",
      "  explainerdashboard: Not installed\n",
      "             autoviz: Not installed\n",
      "           fairlearn: Not installed\n",
      "             xgboost: 1.6.2\n",
      "            catboost: Not installed\n",
      "              kmodes: 0.12.2\n",
      "             mlxtend: 0.19.0\n",
      "       statsforecast: Not installed\n",
      "        tune_sklearn: Not installed\n",
      "                 ray: Not installed\n",
      "            hyperopt: Not installed\n",
      "              optuna: Not installed\n",
      "               skopt: Not installed\n",
      "              mlflow: 1.30.0\n",
      "              gradio: Not installed\n",
      "             fastapi: Not installed\n",
      "             uvicorn: Not installed\n",
      "              m2cgen: Not installed\n",
      "           evidently: Not installed\n",
      "                nltk: 3.8.1\n",
      "            pyLDAvis: 3.2.2\n",
      "              gensim: 3.8.3\n",
      "               spacy: 2.3.9\n",
      "           wordcloud: 1.8.2.2\n",
      "            textblob: 0.17.1\n",
      "               fugue: Not installed\n",
      "           streamlit: Not installed\n",
      "             prophet: 1.1.1\n"
     ]
    }
   ],
   "source": [
    "def what_is_installed():\n",
    "    import pycaret\n",
    "    from pycaret import show_versions\n",
    "    show_versions()\n",
    "\n",
    "try:\n",
    "    what_is_installed()\n",
    "except:\n",
    "  #pip install prophet\n",
    "   # !pip install pycaret-ts-alpha\n",
    "    what_is_installed()"
   ]
  },
  {
   "cell_type": "code",
   "execution_count": 18,
   "id": "9a451aa9-ffd0-4cef-a033-2edf0fe41406",
   "metadata": {},
   "outputs": [
    {
     "data": {
      "text/html": [
       "<style type=\"text/css\">\n",
       "#T_869a9_row23_col1 {\n",
       "  background-color: lightgreen;\n",
       "}\n",
       "</style>\n",
       "<table id=\"T_869a9_\">\n",
       "  <thead>\n",
       "    <tr>\n",
       "      <th class=\"blank level0\" >&nbsp;</th>\n",
       "      <th class=\"col_heading level0 col0\" >Description</th>\n",
       "      <th class=\"col_heading level0 col1\" >Value</th>\n",
       "    </tr>\n",
       "  </thead>\n",
       "  <tbody>\n",
       "    <tr>\n",
       "      <th id=\"T_869a9_level0_row0\" class=\"row_heading level0 row0\" >0</th>\n",
       "      <td id=\"T_869a9_row0_col0\" class=\"data row0 col0\" >session_id</td>\n",
       "      <td id=\"T_869a9_row0_col1\" class=\"data row0 col1\" >140</td>\n",
       "    </tr>\n",
       "    <tr>\n",
       "      <th id=\"T_869a9_level0_row1\" class=\"row_heading level0 row1\" >1</th>\n",
       "      <td id=\"T_869a9_row1_col0\" class=\"data row1 col0\" >Target</td>\n",
       "      <td id=\"T_869a9_row1_col1\" class=\"data row1 col1\" >moisture</td>\n",
       "    </tr>\n",
       "    <tr>\n",
       "      <th id=\"T_869a9_level0_row2\" class=\"row_heading level0 row2\" >2</th>\n",
       "      <td id=\"T_869a9_row2_col0\" class=\"data row2 col0\" >Approach</td>\n",
       "      <td id=\"T_869a9_row2_col1\" class=\"data row2 col1\" >Univariate</td>\n",
       "    </tr>\n",
       "    <tr>\n",
       "      <th id=\"T_869a9_level0_row3\" class=\"row_heading level0 row3\" >3</th>\n",
       "      <td id=\"T_869a9_row3_col0\" class=\"data row3 col0\" >Exogenous Variables</td>\n",
       "      <td id=\"T_869a9_row3_col1\" class=\"data row3 col1\" >Present</td>\n",
       "    </tr>\n",
       "    <tr>\n",
       "      <th id=\"T_869a9_level0_row4\" class=\"row_heading level0 row4\" >4</th>\n",
       "      <td id=\"T_869a9_row4_col0\" class=\"data row4 col0\" >Original data shape</td>\n",
       "      <td id=\"T_869a9_row4_col1\" class=\"data row4 col1\" >(17375, 21)</td>\n",
       "    </tr>\n",
       "    <tr>\n",
       "      <th id=\"T_869a9_level0_row5\" class=\"row_heading level0 row5\" >5</th>\n",
       "      <td id=\"T_869a9_row5_col0\" class=\"data row5 col0\" >Transformed data shape</td>\n",
       "      <td id=\"T_869a9_row5_col1\" class=\"data row5 col1\" >(17375, 21)</td>\n",
       "    </tr>\n",
       "    <tr>\n",
       "      <th id=\"T_869a9_level0_row6\" class=\"row_heading level0 row6\" >6</th>\n",
       "      <td id=\"T_869a9_row6_col0\" class=\"data row6 col0\" >Transformed train set shape</td>\n",
       "      <td id=\"T_869a9_row6_col1\" class=\"data row6 col1\" >(15375, 21)</td>\n",
       "    </tr>\n",
       "    <tr>\n",
       "      <th id=\"T_869a9_level0_row7\" class=\"row_heading level0 row7\" >7</th>\n",
       "      <td id=\"T_869a9_row7_col0\" class=\"data row7 col0\" >Transformed test set shape</td>\n",
       "      <td id=\"T_869a9_row7_col1\" class=\"data row7 col1\" >(2000, 21)</td>\n",
       "    </tr>\n",
       "    <tr>\n",
       "      <th id=\"T_869a9_level0_row8\" class=\"row_heading level0 row8\" >8</th>\n",
       "      <td id=\"T_869a9_row8_col0\" class=\"data row8 col0\" >Rows with missing values</td>\n",
       "      <td id=\"T_869a9_row8_col1\" class=\"data row8 col1\" >0.0%</td>\n",
       "    </tr>\n",
       "    <tr>\n",
       "      <th id=\"T_869a9_level0_row9\" class=\"row_heading level0 row9\" >9</th>\n",
       "      <td id=\"T_869a9_row9_col0\" class=\"data row9 col0\" >Fold Generator</td>\n",
       "      <td id=\"T_869a9_row9_col1\" class=\"data row9 col1\" >ExpandingWindowSplitter</td>\n",
       "    </tr>\n",
       "    <tr>\n",
       "      <th id=\"T_869a9_level0_row10\" class=\"row_heading level0 row10\" >10</th>\n",
       "      <td id=\"T_869a9_row10_col0\" class=\"data row10 col0\" >Fold Number</td>\n",
       "      <td id=\"T_869a9_row10_col1\" class=\"data row10 col1\" >3</td>\n",
       "    </tr>\n",
       "    <tr>\n",
       "      <th id=\"T_869a9_level0_row11\" class=\"row_heading level0 row11\" >11</th>\n",
       "      <td id=\"T_869a9_row11_col0\" class=\"data row11 col0\" >Enforce Prediction Interval</td>\n",
       "      <td id=\"T_869a9_row11_col1\" class=\"data row11 col1\" >False</td>\n",
       "    </tr>\n",
       "    <tr>\n",
       "      <th id=\"T_869a9_level0_row12\" class=\"row_heading level0 row12\" >12</th>\n",
       "      <td id=\"T_869a9_row12_col0\" class=\"data row12 col0\" >Splits used for hyperparameters</td>\n",
       "      <td id=\"T_869a9_row12_col1\" class=\"data row12 col1\" >all</td>\n",
       "    </tr>\n",
       "    <tr>\n",
       "      <th id=\"T_869a9_level0_row13\" class=\"row_heading level0 row13\" >13</th>\n",
       "      <td id=\"T_869a9_row13_col0\" class=\"data row13 col0\" >Seasonality Detection Algo</td>\n",
       "      <td id=\"T_869a9_row13_col1\" class=\"data row13 col1\" >auto</td>\n",
       "    </tr>\n",
       "    <tr>\n",
       "      <th id=\"T_869a9_level0_row14\" class=\"row_heading level0 row14\" >14</th>\n",
       "      <td id=\"T_869a9_row14_col0\" class=\"data row14 col0\" >Max Period to Consider</td>\n",
       "      <td id=\"T_869a9_row14_col1\" class=\"data row14 col1\" >None</td>\n",
       "    </tr>\n",
       "    <tr>\n",
       "      <th id=\"T_869a9_level0_row15\" class=\"row_heading level0 row15\" >15</th>\n",
       "      <td id=\"T_869a9_row15_col0\" class=\"data row15 col0\" >Seasonal Period(s) Tested</td>\n",
       "      <td id=\"T_869a9_row15_col1\" class=\"data row15 col1\" >[365]</td>\n",
       "    </tr>\n",
       "    <tr>\n",
       "      <th id=\"T_869a9_level0_row16\" class=\"row_heading level0 row16\" >16</th>\n",
       "      <td id=\"T_869a9_row16_col0\" class=\"data row16 col0\" >Significant Seasonal Period(s)</td>\n",
       "      <td id=\"T_869a9_row16_col1\" class=\"data row16 col1\" >[365]</td>\n",
       "    </tr>\n",
       "    <tr>\n",
       "      <th id=\"T_869a9_level0_row17\" class=\"row_heading level0 row17\" >17</th>\n",
       "      <td id=\"T_869a9_row17_col0\" class=\"data row17 col0\" >Significant Seasonal Period(s) without Harmonics</td>\n",
       "      <td id=\"T_869a9_row17_col1\" class=\"data row17 col1\" >[365]</td>\n",
       "    </tr>\n",
       "    <tr>\n",
       "      <th id=\"T_869a9_level0_row18\" class=\"row_heading level0 row18\" >18</th>\n",
       "      <td id=\"T_869a9_row18_col0\" class=\"data row18 col0\" >Remove Harmonics</td>\n",
       "      <td id=\"T_869a9_row18_col1\" class=\"data row18 col1\" >False</td>\n",
       "    </tr>\n",
       "    <tr>\n",
       "      <th id=\"T_869a9_level0_row19\" class=\"row_heading level0 row19\" >19</th>\n",
       "      <td id=\"T_869a9_row19_col0\" class=\"data row19 col0\" >Harmonics Order Method</td>\n",
       "      <td id=\"T_869a9_row19_col1\" class=\"data row19 col1\" >harmonic_max</td>\n",
       "    </tr>\n",
       "    <tr>\n",
       "      <th id=\"T_869a9_level0_row20\" class=\"row_heading level0 row20\" >20</th>\n",
       "      <td id=\"T_869a9_row20_col0\" class=\"data row20 col0\" >Num Seasonalities to Use</td>\n",
       "      <td id=\"T_869a9_row20_col1\" class=\"data row20 col1\" >1</td>\n",
       "    </tr>\n",
       "    <tr>\n",
       "      <th id=\"T_869a9_level0_row21\" class=\"row_heading level0 row21\" >21</th>\n",
       "      <td id=\"T_869a9_row21_col0\" class=\"data row21 col0\" >All Seasonalities to Use</td>\n",
       "      <td id=\"T_869a9_row21_col1\" class=\"data row21 col1\" >[365]</td>\n",
       "    </tr>\n",
       "    <tr>\n",
       "      <th id=\"T_869a9_level0_row22\" class=\"row_heading level0 row22\" >22</th>\n",
       "      <td id=\"T_869a9_row22_col0\" class=\"data row22 col0\" >Primary Seasonality</td>\n",
       "      <td id=\"T_869a9_row22_col1\" class=\"data row22 col1\" >365</td>\n",
       "    </tr>\n",
       "    <tr>\n",
       "      <th id=\"T_869a9_level0_row23\" class=\"row_heading level0 row23\" >23</th>\n",
       "      <td id=\"T_869a9_row23_col0\" class=\"data row23 col0\" >Seasonality Present</td>\n",
       "      <td id=\"T_869a9_row23_col1\" class=\"data row23 col1\" >True</td>\n",
       "    </tr>\n",
       "    <tr>\n",
       "      <th id=\"T_869a9_level0_row24\" class=\"row_heading level0 row24\" >24</th>\n",
       "      <td id=\"T_869a9_row24_col0\" class=\"data row24 col0\" >Target Strictly Positive</td>\n",
       "      <td id=\"T_869a9_row24_col1\" class=\"data row24 col1\" >True</td>\n",
       "    </tr>\n",
       "    <tr>\n",
       "      <th id=\"T_869a9_level0_row25\" class=\"row_heading level0 row25\" >25</th>\n",
       "      <td id=\"T_869a9_row25_col0\" class=\"data row25 col0\" >Target White Noise</td>\n",
       "      <td id=\"T_869a9_row25_col1\" class=\"data row25 col1\" >No</td>\n",
       "    </tr>\n",
       "    <tr>\n",
       "      <th id=\"T_869a9_level0_row26\" class=\"row_heading level0 row26\" >26</th>\n",
       "      <td id=\"T_869a9_row26_col0\" class=\"data row26 col0\" >Recommended d</td>\n",
       "      <td id=\"T_869a9_row26_col1\" class=\"data row26 col1\" >1</td>\n",
       "    </tr>\n",
       "    <tr>\n",
       "      <th id=\"T_869a9_level0_row27\" class=\"row_heading level0 row27\" >27</th>\n",
       "      <td id=\"T_869a9_row27_col0\" class=\"data row27 col0\" >Recommended Seasonal D</td>\n",
       "      <td id=\"T_869a9_row27_col1\" class=\"data row27 col1\" >0</td>\n",
       "    </tr>\n",
       "    <tr>\n",
       "      <th id=\"T_869a9_level0_row28\" class=\"row_heading level0 row28\" >28</th>\n",
       "      <td id=\"T_869a9_row28_col0\" class=\"data row28 col0\" >Preprocess</td>\n",
       "      <td id=\"T_869a9_row28_col1\" class=\"data row28 col1\" >False</td>\n",
       "    </tr>\n",
       "    <tr>\n",
       "      <th id=\"T_869a9_level0_row29\" class=\"row_heading level0 row29\" >29</th>\n",
       "      <td id=\"T_869a9_row29_col0\" class=\"data row29 col0\" >CPU Jobs</td>\n",
       "      <td id=\"T_869a9_row29_col1\" class=\"data row29 col1\" >-1</td>\n",
       "    </tr>\n",
       "    <tr>\n",
       "      <th id=\"T_869a9_level0_row30\" class=\"row_heading level0 row30\" >30</th>\n",
       "      <td id=\"T_869a9_row30_col0\" class=\"data row30 col0\" >Use GPU</td>\n",
       "      <td id=\"T_869a9_row30_col1\" class=\"data row30 col1\" >False</td>\n",
       "    </tr>\n",
       "    <tr>\n",
       "      <th id=\"T_869a9_level0_row31\" class=\"row_heading level0 row31\" >31</th>\n",
       "      <td id=\"T_869a9_row31_col0\" class=\"data row31 col0\" >Log Experiment</td>\n",
       "      <td id=\"T_869a9_row31_col1\" class=\"data row31 col1\" >False</td>\n",
       "    </tr>\n",
       "    <tr>\n",
       "      <th id=\"T_869a9_level0_row32\" class=\"row_heading level0 row32\" >32</th>\n",
       "      <td id=\"T_869a9_row32_col0\" class=\"data row32 col0\" >Experiment Name</td>\n",
       "      <td id=\"T_869a9_row32_col1\" class=\"data row32 col1\" >ts-default-name</td>\n",
       "    </tr>\n",
       "    <tr>\n",
       "      <th id=\"T_869a9_level0_row33\" class=\"row_heading level0 row33\" >33</th>\n",
       "      <td id=\"T_869a9_row33_col0\" class=\"data row33 col0\" >USI</td>\n",
       "      <td id=\"T_869a9_row33_col1\" class=\"data row33 col1\" >1360</td>\n",
       "    </tr>\n",
       "  </tbody>\n",
       "</table>\n"
      ],
      "text/plain": [
       "<pandas.io.formats.style.Styler at 0x12b837350>"
      ]
     },
     "metadata": {},
     "output_type": "display_data"
    },
    {
     "data": {
      "text/plain": [
       "<pycaret.time_series.forecasting.oop.TSForecastingExperiment at 0x12bffa410>"
      ]
     },
     "execution_count": 18,
     "metadata": {},
     "output_type": "execute_result"
    }
   ],
   "source": [
    "from pycaret.time_series import TSForecastingExperiment\n",
    "exp = TSForecastingExperiment()\n",
    "# Change renderer appropriately based on where the notebook is being run ----\n",
    "# Refer to plotly for available renderers.\n",
    "global_plot_settings = {\"renderer\": \"jupyterlab\",\n",
    "                        \"hoverinfo\": \"text\"}\n",
    "\n",
    "# init environment\n",
    "\n",
    "exp.setup(data = data_for_modeling,\n",
    "          target= target,\n",
    "          seasonal_period=365,\n",
    "         #index='index',\n",
    "          fh=2000,\n",
    "          fig_kwargs=global_plot_settings,\n",
    "          session_id=140)"
   ]
  },
  {
   "cell_type": "code",
   "execution_count": 9,
   "id": "c4afa02d-169a-4510-9b42-65524faceff0",
   "metadata": {},
   "outputs": [
    {
     "name": "stdout",
     "output_type": "stream",
     "text": [
      "Decomposition is currently not supported for pandas dataframes without a PeriodIndex or DatetimeIndex. Please specify a PeriodIndex or DatetimeIndex in setup() before plotting decomposition plots.\n"
     ]
    }
   ],
   "source": [
    "# Additional plots provided by PyCaret to help understand what is being done.\n",
    "exp.plot_model(plot=\"decomp\")"
   ]
  },
  {
   "cell_type": "markdown",
   "id": "6290aeb2",
   "metadata": {},
   "source": [
    " Available plots are:\n",
    "  'ts', 'train_test_split', 'cv', 'acf', 'pacf', 'diagnostics', 'decomp', 'decomp_stl', 'diff', 'periodogram', 'fft', 'ccf'\n",
    "\n",
    "Default renderer: 'vscode'\n",
    "    Available renderers:\n",
    "        ['plotly_mimetype', 'jupyterlab', 'nteract', 'vscode',\n",
    "         'notebook', 'notebook_connected', 'kaggle', 'azure', 'colab',\n",
    "         'cocalc', 'databricks', 'json', 'png', 'jpeg', 'jpg', 'svg',\n",
    "         'pdf', 'browser', 'firefox', 'chrome', 'chromium', 'iframe',\n",
    "         'iframe_connected', 'sphinx_gallery', 'sphinx_gallery_png']"
   ]
  },
  {
   "cell_type": "markdown",
   "id": "1e9c9bda-df8e-4d52-bd1f-2260bb58c679",
   "metadata": {},
   "source": [
    "exp.plot_model(plot=\"cv\")"
   ]
  },
  {
   "cell_type": "code",
   "execution_count": 19,
   "id": "c5a0ede4-b3d9-490a-b724-92eaca022f8a",
   "metadata": {},
   "outputs": [
    {
     "name": "stdout",
     "output_type": "stream",
     "text": [
      "Model training and selection\n"
     ]
    },
    {
     "data": {
      "text/html": [
       "<div>\n",
       "<style scoped>\n",
       "    .dataframe tbody tr th:only-of-type {\n",
       "        vertical-align: middle;\n",
       "    }\n",
       "\n",
       "    .dataframe tbody tr th {\n",
       "        vertical-align: top;\n",
       "    }\n",
       "\n",
       "    .dataframe thead th {\n",
       "        text-align: right;\n",
       "    }\n",
       "</style>\n",
       "<table border=\"1\" class=\"dataframe\">\n",
       "  <thead>\n",
       "    <tr style=\"text-align: right;\">\n",
       "      <th></th>\n",
       "      <th></th>\n",
       "      <th></th>\n",
       "    </tr>\n",
       "    <tr>\n",
       "      <th></th>\n",
       "      <th></th>\n",
       "      <th></th>\n",
       "    </tr>\n",
       "  </thead>\n",
       "  <tbody>\n",
       "    <tr>\n",
       "      <th>Initiated</th>\n",
       "      <td>. . . . . . . . . . . . . . . . . .</td>\n",
       "      <td>16:13:26</td>\n",
       "    </tr>\n",
       "    <tr>\n",
       "      <th>Status</th>\n",
       "      <td>. . . . . . . . . . . . . . . . . .</td>\n",
       "      <td>Fitting 3 Folds</td>\n",
       "    </tr>\n",
       "    <tr>\n",
       "      <th>Estimator</th>\n",
       "      <td>. . . . . . . . . . . . . . . . . .</td>\n",
       "      <td>Linear w/ Cond. Deseasonalize &amp; Detrending</td>\n",
       "    </tr>\n",
       "  </tbody>\n",
       "</table>\n",
       "</div>"
      ],
      "text/plain": [
       "                                                \\\n",
       "                                                 \n",
       "Initiated  . . . . . . . . . . . . . . . . . .   \n",
       "Status     . . . . . . . . . . . . . . . . . .   \n",
       "Estimator  . . . . . . . . . . . . . . . . . .   \n",
       "\n",
       "                                                       \n",
       "                                                       \n",
       "Initiated                                    16:13:26  \n",
       "Status                                Fitting 3 Folds  \n",
       "Estimator  Linear w/ Cond. Deseasonalize & Detrending  "
      ]
     },
     "metadata": {},
     "output_type": "display_data"
    },
    {
     "data": {
      "text/html": [],
      "text/plain": [
       "<IPython.core.display.HTML object>"
      ]
     },
     "metadata": {},
     "output_type": "display_data"
    },
    {
     "data": {
      "application/vnd.jupyter.widget-view+json": {
       "model_id": "269b6ee050a54093ad9c45ef06975edf",
       "version_major": 2,
       "version_minor": 0
      },
      "text/plain": [
       "Processing:   0%|          | 0/4 [00:00<?, ?it/s]"
      ]
     },
     "metadata": {},
     "output_type": "display_data"
    }
   ],
   "source": [
    "#Model training and selection\n",
    "print(\"Model training and selection\")\n",
    "#exclude={'arima','auto_arima'}\n",
    "#best_model = exp.compare_models(sort =\"MAE\", exclude=exclude)\n",
    "best_model= exp.create_model('lr_cds_dt')"
   ]
  },
  {
   "cell_type": "code",
   "execution_count": null,
   "id": "adddfd8e-f8c1-4835-b892-b7cd1f6999db",
   "metadata": {},
   "outputs": [],
   "source": [
    "exp.plot_model(best_model,\n",
    "               plot = 'forecast')"
   ]
  },
  {
   "cell_type": "code",
   "execution_count": null,
   "id": "634b7acc-298c-4e3d-ac82-067bf0fa7ae6",
   "metadata": {},
   "outputs": [],
   "source": [
    "# Diagnostics plot\n",
    "exp.plot_model(plot = 'diagnostics')"
   ]
  },
  {
   "cell_type": "code",
   "execution_count": null,
   "id": "4b0a8490-3f76-48e7-ad8e-48ec2039fd92",
   "metadata": {},
   "outputs": [],
   "source": [
    "#tune model\n",
    "tuned= exp.tune_model(best_model,fold=5)\n"
   ]
  },
  {
   "cell_type": "code",
   "execution_count": null,
   "id": "e1b10fb6-beea-4c7a-86fa-1f22a19d3ede",
   "metadata": {},
   "outputs": [],
   "source": [
    "# forecast in unknown future\n",
    "exp.plot_model(tuned,\n",
    "               plot = 'forecast',\n",
    "               data_kwargs = {'fh' : 2000})"
   ]
  },
  {
   "cell_type": "code",
   "execution_count": null,
   "id": "417e3ea4-797c-4316-81d8-95ae05537656",
   "metadata": {},
   "outputs": [],
   "source": [
    "#from sktime.forecasting.base import *\n",
    "# Decomposition plot\n",
    "exp.plot_model(tuned, plot=\"decomp\")\n",
    "exp.plot_model(tuned, plot=\"decomp_stl\")"
   ]
  },
  {
   "cell_type": "code",
   "execution_count": null,
   "id": "7e1ca98b-9a4e-4e4a-a30a-5133835cf997",
   "metadata": {},
   "outputs": [],
   "source": [
    "# finalize model\n",
    "final_best =exp.finalize_model(tuned)\n",
    "print(final_best)"
   ]
  },
  {
   "cell_type": "code",
   "execution_count": null,
   "id": "efc0585b",
   "metadata": {},
   "outputs": [],
   "source": [
    "future_exog.count\n"
   ]
  },
  {
   "cell_type": "code",
   "execution_count": null,
   "id": "60ab8757-5e82-49ff-8cb5-e705be345bce",
   "metadata": {},
   "outputs": [],
   "source": [
    "# generate predictions\n",
    "preds= exp.predict_model(final_best,fh=5892,X=future_exog)\n",
    "print(preds)"
   ]
  },
  {
   "cell_type": "code",
   "execution_count": null,
   "id": "23115687-a88b-4b45-923f-617f94b4d9ae",
   "metadata": {},
   "outputs": [],
   "source": [
    "y_train= data_for_modeling['moisture']\n",
    "#y_train=exp.get_config(\"y_train\")\n",
    "print(y_train)"
   ]
  },
  {
   "cell_type": "code",
   "execution_count": null,
   "id": "30c3b3ff-5186-4a95-9574-3a1c82ba597f",
   "metadata": {},
   "outputs": [],
   "source": [
    "\n",
    "data=df['moisture'].reset_index(drop=True)\n",
    "from sktime.utils.plotting import plot_series\n",
    "plot_series(data,\n",
    "            y_train,\n",
    "            preds,\n",
    "            labels=['All', 'Train', 'Test Predictions'])\n",
    "plt.show()"
   ]
  },
  {
   "cell_type": "code",
   "execution_count": null,
   "id": "6a805b9b-dc79-4877-8f3e-20ec727b2116",
   "metadata": {},
   "outputs": [],
   "source": [
    "# save the model\n",
    "exp.save_model(final_best, 'my_best_model')"
   ]
  },
  {
   "cell_type": "markdown",
   "id": "6d962993-0aed-426d-ab69-d224b6b09a4e",
   "metadata": {},
   "source": [
    "BORUTA\n",
    "--"
   ]
  },
  {
   "cell_type": "code",
   "execution_count": null,
   "id": "d59fae2f-e7e3-4c2b-a857-9a758ac5bb65",
   "metadata": {},
   "outputs": [],
   "source": [
    "#Installing Boruta\n",
    "#!pip install Boruta\n",
    "# Boruta for feature selection\n",
    "#!pip install boruta_py\n",
    "from sklearn.ensemble import RandomForestRegressor\n",
    "from boruta import  BorutaPy\n",
    "from sklearn.metrics import accuracy_score "
   ]
  },
  {
   "cell_type": "code",
   "execution_count": null,
   "id": "3c3cd2c4-ffb2-4c28-a306-dd912fe4c5af",
   "metadata": {},
   "outputs": [],
   "source": [
    "X_new = df.drop(columns =['moisture']).reset_index(drop=True)\n",
    "X_new"
   ]
  },
  {
   "cell_type": "code",
   "execution_count": null,
   "id": "de8193f3-c18a-4f33-993f-59e435714191",
   "metadata": {},
   "outputs": [],
   "source": [
    "y_new = df['moisture'].reset_index(drop=True)\n",
    "y_new"
   ]
  },
  {
   "cell_type": "code",
   "execution_count": null,
   "id": "10fa3f69-ccdf-4ac2-9537-a595ef77be6c",
   "metadata": {},
   "outputs": [],
   "source": [
    "#Initializing the random forest model\n",
    "model = RandomForestRegressor(n_estimators = 100,\n",
    "                              max_depth = 5,\n",
    "                              random_state = 42)\n",
    "# let's initialize Boruta\n",
    "feat_selector = BorutaPy(\n",
    "    verbose=2,\n",
    "    estimator=model,\n",
    "    n_estimators='auto',\n",
    "    max_iter=10  # number of iterations to perform\n",
    ")"
   ]
  },
  {
   "cell_type": "code",
   "execution_count": null,
   "id": "ba95b0a5-a397-422b-ada0-fa2666bc18d6",
   "metadata": {},
   "outputs": [],
   "source": [
    "#Training the boruta, X and Y mus be numpy arrays\n",
    "import numpy as np\n",
    "feat_selector.fit(np.array(X_new), np.array(y_new))"
   ]
  },
  {
   "cell_type": "code",
   "execution_count": null,
   "id": "d80fe9f0-cb9f-4830-8cad-6844c0b98caf",
   "metadata": {},
   "outputs": [],
   "source": [
    "accepted = X_new.columns[feat_selector.support_].to_list()\n",
    "print('Accepted features:', accepted)"
   ]
  },
  {
   "cell_type": "code",
   "execution_count": null,
   "id": "4975afbc-5406-463b-8500-b2b8f98241d9",
   "metadata": {},
   "outputs": [],
   "source": [
    "undecided = X_new.columns[feat_selector.support_weak_].to_list()\n",
    "print('Undecided features', undecided)"
   ]
  },
  {
   "cell_type": "code",
   "execution_count": null,
   "id": "f43fa578-1af8-4bba-905b-27ee18a42d9a",
   "metadata": {},
   "outputs": [],
   "source": [
    "selected_features = accepted + undecided # include undecided for safe measure\n",
    "df_new=df.copy()\n",
    "df_boruta = df_new.loc[:,selected_features]\n",
    "df_boruta['moisture']= df['moisture']\n",
    "df_boruta"
   ]
  },
  {
   "cell_type": "code",
   "execution_count": null,
   "id": "440db2c1-bdf5-4842-8996-dd5fc496074c",
   "metadata": {},
   "outputs": [],
   "source": [
    "corr=df_boruta.copy().corr()\n",
    "corr"
   ]
  },
  {
   "cell_type": "code",
   "execution_count": null,
   "id": "29175c1c-99ac-4c72-ba2c-67fabf0b4243",
   "metadata": {},
   "outputs": [],
   "source": [
    "import seaborn as sns\n",
    "sns.set(rc = {'figure.figsize':(20, 12)})\n",
    "sns.heatmap(corr, annot=True)\n",
    "plt.show()"
   ]
  },
  {
   "cell_type": "code",
   "execution_count": null,
   "id": "7b14786c-d8f8-4f89-ae0a-43eb52785dea",
   "metadata": {},
   "outputs": [],
   "source": [
    "\n",
    "highly_corr = {}\n",
    "for columns in corr.columns:\n",
    "  highly_corr[columns] = list(corr[columns][corr[columns]> 0.99].index)\n",
    "highly_corr\n"
   ]
  },
  {
   "cell_type": "code",
   "execution_count": null,
   "id": "883bf5bc-d780-4d57-8f3b-fe8203250460",
   "metadata": {},
   "outputs": [],
   "source": [
    "upper_tri = corr.where(np.triu(np.ones(corr.shape),k=1).astype(np.bool))\n",
    "upper_tri.info()"
   ]
  },
  {
   "cell_type": "code",
   "execution_count": null,
   "id": "1223b28a-d907-4cf6-904c-8b3bdfdce458",
   "metadata": {},
   "outputs": [],
   "source": [
    "to_drop = [column for column in upper_tri.columns if any(upper_tri[column] > 0.9)]\n",
    "to_drop"
   ]
  },
  {
   "cell_type": "code",
   "execution_count": null,
   "id": "71bba70b-85dd-4acf-a1ce-7852e1cc3a5d",
   "metadata": {},
   "outputs": [],
   "source": [
    "df_boruta2 = df_boruta.drop(df_boruta[to_drop], axis=1)\n",
    "df_boruta2['moisture']= df['moisture']\n",
    "df_boruta2.info()"
   ]
  },
  {
   "cell_type": "code",
   "execution_count": null,
   "id": "7e27c39e-3327-42e4-bb75-23622ba63047",
   "metadata": {},
   "outputs": [],
   "source": [
    "from pycaret.time_series import TSForecastingExperiment\n",
    "\n",
    "# Change renderer appropriately based on where the notebook is being run ----\n",
    "# Refer to plotly for available renderers.\n",
    "global_plot_settings = {\"renderer\": \"jupytelab\",\n",
    "                        \"hoverinfo\": \"text\"}\n",
    "# init environment\n",
    "from pycaret.regression import *\n",
    "exp_b = TSForecastingExperiment()\n",
    "target='moisture'\n",
    "data_for_boruta = df_boruta2[df_boruta2.index < '2022-09-21'].reset_index(drop = True)\n",
    "future_boruta = df_boruta2[df_boruta2.index >= '2022-09-21'].reset_index(drop = True)\n",
    "future_exog_boruta = future_boruta.drop(columns=target)\n",
    "\n",
    "exp_b.setup(data = data_for_boruta,\n",
    "          target= target,\n",
    "          seasonal_period=12,\n",
    "          fh=2000,\n",
    "          fig_kwargs=global_plot_settings,\n",
    "          session_id=143)"
   ]
  },
  {
   "cell_type": "code",
   "execution_count": null,
   "id": "06b75fc2-50f3-4d84-9311-a9c34f063a2e",
   "metadata": {},
   "outputs": [],
   "source": [
    "exp_b.models()"
   ]
  },
  {
   "cell_type": "code",
   "execution_count": null,
   "id": "eeb355ec-a24a-4036-bd9b-da85afb74e4e",
   "metadata": {},
   "outputs": [],
   "source": [
    "#compare models with boruta data\n",
    "#best_boruta= exp_b.compare_models(sort =\"MAE\", exclude={'arima','auto_arima','lightgbm_cds_dt'})# remove the slow models and the ones causing the kernel to crash\n",
    "best_boruta= exp_b.create_model('omp_cds_dt')"
   ]
  },
  {
   "cell_type": "code",
   "execution_count": null,
   "id": "852cffab-4a01-464a-b78f-2c55c8d17974",
   "metadata": {},
   "outputs": [],
   "source": [
    "# Additional plots provided by PyCaret to help understand what is being done.\n",
    "exp_b.plot_model(plot=\"train_test_split\")"
   ]
  },
  {
   "cell_type": "code",
   "execution_count": null,
   "id": "3877ce40-65d8-4e5d-aa25-b69a1fd55d94",
   "metadata": {},
   "outputs": [],
   "source": [
    "#tune model\n",
    "tuned_boruta= exp_b.tune_model(best_model,fold=5)\n"
   ]
  },
  {
   "cell_type": "code",
   "execution_count": null,
   "id": "fb2cf11f-19c4-46e8-a7b3-8f53afb40a7e",
   "metadata": {},
   "outputs": [],
   "source": [
    "# forecast in unknown future\n",
    "exp_b.plot_model(tuned_boruta,\n",
    "               plot = 'forecast',\n",
    "               data_kwargs = {'fh' : 2000})"
   ]
  },
  {
   "cell_type": "code",
   "execution_count": null,
   "id": "c48e6661-2bad-46e3-a8f5-94795ff3deff",
   "metadata": {},
   "outputs": [],
   "source": [
    "# Diagnostics plot\n",
    "exp_b.plot_model(tuned_boruta, plot = 'diagnostics')"
   ]
  },
  {
   "cell_type": "code",
   "execution_count": null,
   "id": "27c3f169-8cb9-4bd9-941f-36f52812d975",
   "metadata": {},
   "outputs": [],
   "source": [
    "# finalize model\n",
    "final_boruta = exp_b.finalize_model(tuned_boruta)\n",
    "print(final_boruta)"
   ]
  },
  {
   "cell_type": "code",
   "execution_count": null,
   "id": "b8caca55-799b-45d8-baf9-0d8f39acfe04",
   "metadata": {},
   "outputs": [],
   "source": [
    "# generate predictions\n",
    "preds_boruta= exp_b.predict_model(final_boruta,fh=5892,X=future_exog_boruta)\n",
    "print(preds_boruta)"
   ]
  },
  {
   "cell_type": "code",
   "execution_count": null,
   "id": "0d618ac6-0729-4db8-80a2-39b75c28c9c6",
   "metadata": {},
   "outputs": [],
   "source": [
    "y_train= data_for_boruta['moisture']\n",
    "data=df_boruta2['moisture'].reset_index(drop=True)\n",
    "from sktime.utils.plotting import plot_series\n",
    "plot_series(data,\n",
    "            y_train,\n",
    "            preds,\n",
    "            labels=['All', 'Train', 'Test Predictions'])\n",
    "plt.grid()"
   ]
  },
  {
   "cell_type": "code",
   "execution_count": null,
   "id": "b336ec07-a146-4826-b628-529d3236017e",
   "metadata": {},
   "outputs": [],
   "source": [
    "# save the model\n",
    "exp_b.save_model(final_boruta, 'my_boruta_model')"
   ]
  },
  {
   "cell_type": "code",
   "execution_count": null,
   "id": "0811d77f-54e1-42ec-bcb0-7365c224a90a",
   "metadata": {},
   "outputs": [],
   "source": [
    "normal=preds.reset_index()\n",
    "normal"
   ]
  },
  {
   "cell_type": "code",
   "execution_count": null,
   "id": "074175b3-5644-47de-963c-d7c589e7c3ea",
   "metadata": {},
   "outputs": [],
   "source": [
    "boruta=preds_boruta.reset_index()\n",
    "boruta= boruta.rename(columns= {\"y_pred\":\"boruta\"})"
   ]
  },
  {
   "cell_type": "code",
   "execution_count": null,
   "id": "c910f74b-1fd6-430d-b6dc-034ffb4e7c99",
   "metadata": {},
   "outputs": [],
   "source": [
    "future_boruta['moisture']"
   ]
  },
  {
   "cell_type": "code",
   "execution_count": null,
   "id": "17bf0043-c310-4672-9463-9260dabca351",
   "metadata": {},
   "outputs": [],
   "source": [
    "predictions= pd.concat([future_boruta['moisture'],normal['y_pred'],boruta['boruta']], axis= 1)"
   ]
  },
  {
   "cell_type": "code",
   "execution_count": null,
   "id": "b70479f5-7a2e-49ed-b19d-d6647ba40537",
   "metadata": {},
   "outputs": [],
   "source": [
    "#importing plotly and cufflinks in offline mode\n",
    "import cufflinks as cf\n",
    "import plotly.offline\n",
    "cf.go_offline()\n",
    "cf.set_config_file(offline=False, world_readable=True)\n"
   ]
  },
  {
   "cell_type": "code",
   "execution_count": null,
   "id": "30f51e0a-53be-4387-8812-fee7015bc934",
   "metadata": {},
   "outputs": [],
   "source": [
    "predictions.iplot()"
   ]
  },
  {
   "cell_type": "code",
   "execution_count": null,
   "id": "0f76a0a3-35f8-4b19-ad3c-454755cf9572",
   "metadata": {},
   "outputs": [],
   "source": [
    "\n",
    "# create ap\n",
    "exp.create_api(final_best, 'soil_api')"
   ]
  },
  {
   "cell_type": "markdown",
   "id": "73b4b5cd",
   "metadata": {},
   "source": [
    "\n",
    "# create app\n",
    "exp.create_app(final_best)"
   ]
  },
  {
   "cell_type": "markdown",
   "id": "73b4b5cd",
   "metadata": {},
   "source": [
    "\n",
    "# create app\n",
    "exp.create_app(final_best)"
   ]
  },
  {
   "cell_type": "code",
   "execution_count": null,
   "metadata": {},
   "outputs": [],
   "source": [
    "final_boruta"
   ]
  },
  {
   "cell_type": "code",
   "execution_count": null,
   "id": "b104d194",
   "metadata": {},
   "outputs": [],
   "source": [
    "# run api\n",
    "!python app.py"
   ]
  },
  {
   "cell_type": "markdown",
   "id": "aa131eba",
   "metadata": {},
   "source": [
    "\n",
    "from ipywidgets import widgets\n",
    "exp.evaluate_model('lr_cds_dt')"
   ]
  },
  {
   "cell_type": "code",
   "execution_count": null,
   "id": "f66803e1",
   "metadata": {},
   "outputs": [],
   "source": [
    "help(plot_model)"
   ]
  },
  {
   "cell_type": "code",
   "execution_count": null,
   "id": "463df694",
   "metadata": {},
   "outputs": [],
   "source": []
  }
 ],
 "metadata": {
  "kernelspec": {
   "display_name": "Python 3.7.16 ('myvenv7': venv)",
   "language": "python",
   "name": "python3"
  },
  "language_info": {
   "codemirror_mode": {
    "name": "ipython",
    "version": 3
   },
   "file_extension": ".py",
   "mimetype": "text/x-python",
   "name": "python",
   "nbconvert_exporter": "python",
   "pygments_lexer": "ipython3",
   "version": "3.7.16"
  },
  "vscode": {
   "interpreter": {
    "hash": "69f78e5ac4ff81640ffe54cce0531f845f26226150c3432ae1043a50e0626ceb"
   }
  }
 },
 "nbformat": 4,
 "nbformat_minor": 5
}
