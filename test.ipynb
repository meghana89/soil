{
 "cells": [
  {
   "cell_type": "code",
   "execution_count": 10,
   "metadata": {},
   "outputs": [
    {
     "data": {
      "text/html": [
       "<div>\n",
       "<style scoped>\n",
       "    .dataframe tbody tr th:only-of-type {\n",
       "        vertical-align: middle;\n",
       "    }\n",
       "\n",
       "    .dataframe tbody tr th {\n",
       "        vertical-align: top;\n",
       "    }\n",
       "\n",
       "    .dataframe thead th {\n",
       "        text-align: right;\n",
       "    }\n",
       "</style>\n",
       "<table border=\"1\" class=\"dataframe\">\n",
       "  <thead>\n",
       "    <tr style=\"text-align: right;\">\n",
       "      <th>Hour</th>\n",
       "      <th>0</th>\n",
       "      <th>1</th>\n",
       "      <th>2</th>\n",
       "      <th>3</th>\n",
       "      <th>4</th>\n",
       "      <th>5</th>\n",
       "      <th>6</th>\n",
       "      <th>7</th>\n",
       "      <th>8</th>\n",
       "      <th>9</th>\n",
       "      <th>...</th>\n",
       "      <th>14</th>\n",
       "      <th>15</th>\n",
       "      <th>16</th>\n",
       "      <th>17</th>\n",
       "      <th>18</th>\n",
       "      <th>19</th>\n",
       "      <th>20</th>\n",
       "      <th>21</th>\n",
       "      <th>22</th>\n",
       "      <th>23</th>\n",
       "    </tr>\n",
       "    <tr>\n",
       "      <th>DOW</th>\n",
       "      <th></th>\n",
       "      <th></th>\n",
       "      <th></th>\n",
       "      <th></th>\n",
       "      <th></th>\n",
       "      <th></th>\n",
       "      <th></th>\n",
       "      <th></th>\n",
       "      <th></th>\n",
       "      <th></th>\n",
       "      <th></th>\n",
       "      <th></th>\n",
       "      <th></th>\n",
       "      <th></th>\n",
       "      <th></th>\n",
       "      <th></th>\n",
       "      <th></th>\n",
       "      <th></th>\n",
       "      <th></th>\n",
       "      <th></th>\n",
       "      <th></th>\n",
       "    </tr>\n",
       "  </thead>\n",
       "  <tbody>\n",
       "    <tr>\n",
       "      <th>Friday</th>\n",
       "      <td>69.010362</td>\n",
       "      <td>69.011449</td>\n",
       "      <td>69.016304</td>\n",
       "      <td>68.996449</td>\n",
       "      <td>68.996449</td>\n",
       "      <td>68.985942</td>\n",
       "      <td>69.018696</td>\n",
       "      <td>69.110290</td>\n",
       "      <td>69.097826</td>\n",
       "      <td>69.044493</td>\n",
       "      <td>...</td>\n",
       "      <td>69.120362</td>\n",
       "      <td>69.213261</td>\n",
       "      <td>69.217029</td>\n",
       "      <td>69.207971</td>\n",
       "      <td>69.207754</td>\n",
       "      <td>69.420519</td>\n",
       "      <td>69.179855</td>\n",
       "      <td>69.172246</td>\n",
       "      <td>69.160145</td>\n",
       "      <td>69.162971</td>\n",
       "    </tr>\n",
       "    <tr>\n",
       "      <th>Monday</th>\n",
       "      <td>68.956111</td>\n",
       "      <td>68.974444</td>\n",
       "      <td>69.080347</td>\n",
       "      <td>69.201806</td>\n",
       "      <td>69.253706</td>\n",
       "      <td>69.211357</td>\n",
       "      <td>69.160556</td>\n",
       "      <td>69.154236</td>\n",
       "      <td>69.125972</td>\n",
       "      <td>69.090347</td>\n",
       "      <td>...</td>\n",
       "      <td>69.006806</td>\n",
       "      <td>68.980139</td>\n",
       "      <td>68.950139</td>\n",
       "      <td>68.936528</td>\n",
       "      <td>68.942708</td>\n",
       "      <td>68.976597</td>\n",
       "      <td>69.246944</td>\n",
       "      <td>69.392778</td>\n",
       "      <td>69.382639</td>\n",
       "      <td>69.362222</td>\n",
       "    </tr>\n",
       "    <tr>\n",
       "      <th>Saturday</th>\n",
       "      <td>69.140580</td>\n",
       "      <td>69.122681</td>\n",
       "      <td>69.098478</td>\n",
       "      <td>69.093478</td>\n",
       "      <td>69.082681</td>\n",
       "      <td>69.051159</td>\n",
       "      <td>69.031087</td>\n",
       "      <td>69.021159</td>\n",
       "      <td>68.984348</td>\n",
       "      <td>68.957101</td>\n",
       "      <td>...</td>\n",
       "      <td>68.841377</td>\n",
       "      <td>68.950000</td>\n",
       "      <td>69.264203</td>\n",
       "      <td>69.301014</td>\n",
       "      <td>69.318623</td>\n",
       "      <td>68.760522</td>\n",
       "      <td>68.111000</td>\n",
       "      <td>69.328333</td>\n",
       "      <td>69.325362</td>\n",
       "      <td>69.346159</td>\n",
       "    </tr>\n",
       "    <tr>\n",
       "      <th>Sunday</th>\n",
       "      <td>69.369928</td>\n",
       "      <td>69.376304</td>\n",
       "      <td>69.365072</td>\n",
       "      <td>69.358551</td>\n",
       "      <td>69.368043</td>\n",
       "      <td>69.353478</td>\n",
       "      <td>69.338406</td>\n",
       "      <td>69.319130</td>\n",
       "      <td>69.243478</td>\n",
       "      <td>69.263913</td>\n",
       "      <td>...</td>\n",
       "      <td>68.982101</td>\n",
       "      <td>68.932754</td>\n",
       "      <td>68.917101</td>\n",
       "      <td>68.860870</td>\n",
       "      <td>68.846159</td>\n",
       "      <td>68.840652</td>\n",
       "      <td>68.845507</td>\n",
       "      <td>68.840725</td>\n",
       "      <td>68.841884</td>\n",
       "      <td>68.835797</td>\n",
       "    </tr>\n",
       "    <tr>\n",
       "      <th>Thursday</th>\n",
       "      <td>69.264565</td>\n",
       "      <td>69.246014</td>\n",
       "      <td>69.220580</td>\n",
       "      <td>69.206304</td>\n",
       "      <td>69.190942</td>\n",
       "      <td>69.190942</td>\n",
       "      <td>69.164565</td>\n",
       "      <td>69.169420</td>\n",
       "      <td>69.202536</td>\n",
       "      <td>69.265580</td>\n",
       "      <td>...</td>\n",
       "      <td>69.107826</td>\n",
       "      <td>69.247259</td>\n",
       "      <td>69.008913</td>\n",
       "      <td>69.013037</td>\n",
       "      <td>68.955797</td>\n",
       "      <td>69.046131</td>\n",
       "      <td>69.310226</td>\n",
       "      <td>68.986667</td>\n",
       "      <td>69.000145</td>\n",
       "      <td>68.995435</td>\n",
       "    </tr>\n",
       "    <tr>\n",
       "      <th>Tuesday</th>\n",
       "      <td>68.516957</td>\n",
       "      <td>68.525725</td>\n",
       "      <td>68.554058</td>\n",
       "      <td>68.605942</td>\n",
       "      <td>68.723913</td>\n",
       "      <td>68.814565</td>\n",
       "      <td>68.784493</td>\n",
       "      <td>68.745652</td>\n",
       "      <td>68.720652</td>\n",
       "      <td>68.723696</td>\n",
       "      <td>...</td>\n",
       "      <td>69.405362</td>\n",
       "      <td>69.471522</td>\n",
       "      <td>69.444088</td>\n",
       "      <td>69.457669</td>\n",
       "      <td>69.406377</td>\n",
       "      <td>69.414130</td>\n",
       "      <td>69.429058</td>\n",
       "      <td>69.438841</td>\n",
       "      <td>69.432101</td>\n",
       "      <td>69.432609</td>\n",
       "    </tr>\n",
       "    <tr>\n",
       "      <th>Wednesday</th>\n",
       "      <td>69.438633</td>\n",
       "      <td>69.463913</td>\n",
       "      <td>69.455072</td>\n",
       "      <td>69.426884</td>\n",
       "      <td>69.441014</td>\n",
       "      <td>69.446884</td>\n",
       "      <td>69.425580</td>\n",
       "      <td>69.399565</td>\n",
       "      <td>69.266045</td>\n",
       "      <td>69.302574</td>\n",
       "      <td>...</td>\n",
       "      <td>69.494586</td>\n",
       "      <td>69.483723</td>\n",
       "      <td>69.891504</td>\n",
       "      <td>69.286884</td>\n",
       "      <td>69.259638</td>\n",
       "      <td>69.274058</td>\n",
       "      <td>69.332174</td>\n",
       "      <td>69.340507</td>\n",
       "      <td>69.320000</td>\n",
       "      <td>69.289275</td>\n",
       "    </tr>\n",
       "  </tbody>\n",
       "</table>\n",
       "<p>7 rows × 24 columns</p>\n",
       "</div>"
      ],
      "text/plain": [
       "Hour              0          1          2          3          4          5   \\\n",
       "DOW                                                                           \n",
       "Friday     69.010362  69.011449  69.016304  68.996449  68.996449  68.985942   \n",
       "Monday     68.956111  68.974444  69.080347  69.201806  69.253706  69.211357   \n",
       "Saturday   69.140580  69.122681  69.098478  69.093478  69.082681  69.051159   \n",
       "Sunday     69.369928  69.376304  69.365072  69.358551  69.368043  69.353478   \n",
       "Thursday   69.264565  69.246014  69.220580  69.206304  69.190942  69.190942   \n",
       "Tuesday    68.516957  68.525725  68.554058  68.605942  68.723913  68.814565   \n",
       "Wednesday  69.438633  69.463913  69.455072  69.426884  69.441014  69.446884   \n",
       "\n",
       "Hour              6          7          8          9   ...         14  \\\n",
       "DOW                                                    ...              \n",
       "Friday     69.018696  69.110290  69.097826  69.044493  ...  69.120362   \n",
       "Monday     69.160556  69.154236  69.125972  69.090347  ...  69.006806   \n",
       "Saturday   69.031087  69.021159  68.984348  68.957101  ...  68.841377   \n",
       "Sunday     69.338406  69.319130  69.243478  69.263913  ...  68.982101   \n",
       "Thursday   69.164565  69.169420  69.202536  69.265580  ...  69.107826   \n",
       "Tuesday    68.784493  68.745652  68.720652  68.723696  ...  69.405362   \n",
       "Wednesday  69.425580  69.399565  69.266045  69.302574  ...  69.494586   \n",
       "\n",
       "Hour              15         16         17         18         19         20  \\\n",
       "DOW                                                                           \n",
       "Friday     69.213261  69.217029  69.207971  69.207754  69.420519  69.179855   \n",
       "Monday     68.980139  68.950139  68.936528  68.942708  68.976597  69.246944   \n",
       "Saturday   68.950000  69.264203  69.301014  69.318623  68.760522  68.111000   \n",
       "Sunday     68.932754  68.917101  68.860870  68.846159  68.840652  68.845507   \n",
       "Thursday   69.247259  69.008913  69.013037  68.955797  69.046131  69.310226   \n",
       "Tuesday    69.471522  69.444088  69.457669  69.406377  69.414130  69.429058   \n",
       "Wednesday  69.483723  69.891504  69.286884  69.259638  69.274058  69.332174   \n",
       "\n",
       "Hour              21         22         23  \n",
       "DOW                                         \n",
       "Friday     69.172246  69.160145  69.162971  \n",
       "Monday     69.392778  69.382639  69.362222  \n",
       "Saturday   69.328333  69.325362  69.346159  \n",
       "Sunday     68.840725  68.841884  68.835797  \n",
       "Thursday   68.986667  69.000145  68.995435  \n",
       "Tuesday    69.438841  69.432101  69.432609  \n",
       "Wednesday  69.340507  69.320000  69.289275  \n",
       "\n",
       "[7 rows x 24 columns]"
      ]
     },
     "execution_count": 10,
     "metadata": {},
     "output_type": "execute_result"
    }
   ],
   "source": [
    "import pandas as pd\n",
    "import plotly.express as px\n",
    "import plotly.graph_objects as go\n",
    "from dash.dependencies import Input, Output\n",
    "from datetime import datetime\n",
    "import plotly.offline as pyo\n",
    "## read the file \n",
    "df = pd.read_csv(\"soil.csv\")\n",
    "df['date']= pd.to_datetime(df['date'])\n",
    "df['Hour']=df['date'].apply(lambda time: time.hour)\n",
    "df['Month']=df['date'].apply(lambda time: time.month)\n",
    "df['Year']=df['date'].apply(lambda time: time.year)\n",
    "df['DOW']=df['date'].dt.day_name()\n",
    "\n",
    "df2= df.groupby(by = [\"DOW\", \"Hour\"]).mean()['segment1(10-30cm)'].unstack()\n",
    "df2"
   ]
  },
  {
   "cell_type": "code",
   "execution_count": null,
   "metadata": {},
   "outputs": [],
   "source": []
  },
  {
   "cell_type": "code",
   "execution_count": 5,
   "metadata": {},
   "outputs": [
    {
     "data": {
      "text/plain": [
       "<AxesSubplot:xlabel='Hour', ylabel='DOW'>"
      ]
     },
     "execution_count": 5,
     "metadata": {},
     "output_type": "execute_result"
    },
    {
     "data": {
      "image/png": "[encoded data removed]",
      "text/plain": [
       "<Figure size 1500x800 with 2 Axes>"
      ]
     },
     "metadata": {},
     "output_type": "display_data"
    }
   ],
   "source": [
    "import seaborn as sns\n",
    "import matplotlib.pyplot as plt\n",
    "plt.figure(figsize= (15,8))\n",
    "sns.heatmap(df2,cmap= \"coolwarm\")"
   ]
  },
  {
   "cell_type": "code",
   "execution_count": 6,
   "metadata": {},
   "outputs": [
    {
     "data": {
      "text/plain": [
       "<seaborn.matrix.ClusterGrid at 0x1235b4710>"
      ]
     },
     "execution_count": 6,
     "metadata": {},
     "output_type": "execute_result"
    },
    {
     "data": {
      "text/plain": [
       "<Figure size 1500x800 with 0 Axes>"
      ]
     },
     "metadata": {},
     "output_type": "display_data"
    },
    {
     "data": {
      "image/png": "[encoded data removed]",
      "text/plain": [
       "<Figure size 1000x1000 with 4 Axes>"
      ]
     },
     "metadata": {},
     "output_type": "display_data"
    }
   ],
   "source": [
    "plt.figure(figsize= (15,8))\n",
    "sns.clustermap(df2,cmap= \"coolwarm\")"
   ]
  },
  {
   "cell_type": "code",
   "execution_count": 7,
   "metadata": {},
   "outputs": [
    {
     "ename": "KeyError",
     "evalue": "'DOW'",
     "output_type": "error",
     "traceback": [
      "\u001b[0;31m---------------------------------------------------------------------------\u001b[0m",
      "\u001b[0;31mKeyError\u001b[0m                                  Traceback (most recent call last)",
      "\u001b[0;32m/Volumes/NEW/soil/myvenv7/lib/python3.7/site-packages/pandas/core/indexes/base.py\u001b[0m in \u001b[0;36mget_loc\u001b[0;34m(self, key, method, tolerance)\u001b[0m\n\u001b[1;32m   3360\u001b[0m             \u001b[0;32mtry\u001b[0m\u001b[0;34m:\u001b[0m\u001b[0;34m\u001b[0m\u001b[0;34m\u001b[0m\u001b[0m\n\u001b[0;32m-> 3361\u001b[0;31m                 \u001b[0;32mreturn\u001b[0m \u001b[0mself\u001b[0m\u001b[0;34m.\u001b[0m\u001b[0m_engine\u001b[0m\u001b[0;34m.\u001b[0m\u001b[0mget_loc\u001b[0m\u001b[0;34m(\u001b[0m\u001b[0mcasted_key\u001b[0m\u001b[0;34m)\u001b[0m\u001b[0;34m\u001b[0m\u001b[0;34m\u001b[0m\u001b[0m\n\u001b[0m\u001b[1;32m   3362\u001b[0m             \u001b[0;32mexcept\u001b[0m \u001b[0mKeyError\u001b[0m \u001b[0;32mas\u001b[0m \u001b[0merr\u001b[0m\u001b[0;34m:\u001b[0m\u001b[0;34m\u001b[0m\u001b[0;34m\u001b[0m\u001b[0m\n",
      "\u001b[0;32m/Volumes/NEW/soil/myvenv7/lib/python3.7/site-packages/pandas/_libs/index.pyx\u001b[0m in \u001b[0;36mpandas._libs.index.IndexEngine.get_loc\u001b[0;34m()\u001b[0m\n",
      "\u001b[0;32mpandas/_libs/index_class_helper.pxi\u001b[0m in \u001b[0;36mpandas._libs.index.Int64Engine._check_type\u001b[0;34m()\u001b[0m\n",
      "\u001b[0;32mpandas/_libs/index_class_helper.pxi\u001b[0m in \u001b[0;36mpandas._libs.index.Int64Engine._check_type\u001b[0;34m()\u001b[0m\n",
      "\u001b[0;31mKeyError\u001b[0m: 'DOW'",
      "\nThe above exception was the direct cause of the following exception:\n",
      "\u001b[0;31mKeyError\u001b[0m                                  Traceback (most recent call last)",
      "\u001b[0;32m/var/folders/sg/8dmzq1nn0wl6qmndt2sf_m1r0000gn/T/ipykernel_28629/3755958056.py\u001b[0m in \u001b[0;36m<module>\u001b[0;34m\u001b[0m\n\u001b[1;32m      1\u001b[0m \u001b[0;31m#heatmap cant accept pandaconvert z has to be python list so we are converting it to it\u001b[0m\u001b[0;34m\u001b[0m\u001b[0;34m\u001b[0m\u001b[0;34m\u001b[0m\u001b[0m\n\u001b[0;32m----> 2\u001b[0;31m \u001b[0mdata\u001b[0m \u001b[0;34m=\u001b[0m \u001b[0;34m[\u001b[0m\u001b[0mgo\u001b[0m\u001b[0;34m.\u001b[0m\u001b[0mHeatmap\u001b[0m\u001b[0;34m(\u001b[0m\u001b[0mx\u001b[0m \u001b[0;34m=\u001b[0m \u001b[0mdf2\u001b[0m\u001b[0;34m[\u001b[0m\u001b[0;34m\"DOW\"\u001b[0m\u001b[0;34m]\u001b[0m\u001b[0;34m,\u001b[0m \u001b[0my\u001b[0m \u001b[0;34m=\u001b[0m \u001b[0mdf2\u001b[0m\u001b[0;34m[\u001b[0m\u001b[0;34m\"Month\"\u001b[0m\u001b[0;34m]\u001b[0m\u001b[0;34m,\u001b[0m \u001b[0mz\u001b[0m\u001b[0;34m=\u001b[0m\u001b[0mdf2\u001b[0m\u001b[0;34m[\u001b[0m\u001b[0;34m\"segment1(10-30cm)\"\u001b[0m\u001b[0;34m]\u001b[0m\u001b[0;34m.\u001b[0m\u001b[0mvalues\u001b[0m\u001b[0;34m.\u001b[0m\u001b[0mtolist\u001b[0m\u001b[0;34m(\u001b[0m\u001b[0;34m)\u001b[0m\u001b[0;34m)\u001b[0m\u001b[0;34m]\u001b[0m\u001b[0;34m\u001b[0m\u001b[0;34m\u001b[0m\u001b[0m\n\u001b[0m\u001b[1;32m      3\u001b[0m \u001b[0;34m\u001b[0m\u001b[0m\n\u001b[1;32m      4\u001b[0m \u001b[0mlayout\u001b[0m \u001b[0;34m=\u001b[0m \u001b[0mgo\u001b[0m\u001b[0;34m.\u001b[0m\u001b[0mLayout\u001b[0m\u001b[0;34m(\u001b[0m\u001b[0mtitle\u001b[0m\u001b[0;34m=\u001b[0m\u001b[0;34m\"Heatmap Test\"\u001b[0m\u001b[0;34m)\u001b[0m\u001b[0;34m\u001b[0m\u001b[0;34m\u001b[0m\u001b[0m\n\u001b[1;32m      5\u001b[0m \u001b[0;34m\u001b[0m\u001b[0m\n",
      "\u001b[0;32m/Volumes/NEW/soil/myvenv7/lib/python3.7/site-packages/pandas/core/frame.py\u001b[0m in \u001b[0;36m__getitem__\u001b[0;34m(self, key)\u001b[0m\n\u001b[1;32m   3456\u001b[0m             \u001b[0;32mif\u001b[0m \u001b[0mself\u001b[0m\u001b[0;34m.\u001b[0m\u001b[0mcolumns\u001b[0m\u001b[0;34m.\u001b[0m\u001b[0mnlevels\u001b[0m \u001b[0;34m>\u001b[0m \u001b[0;36m1\u001b[0m\u001b[0;34m:\u001b[0m\u001b[0;34m\u001b[0m\u001b[0;34m\u001b[0m\u001b[0m\n\u001b[1;32m   3457\u001b[0m                 \u001b[0;32mreturn\u001b[0m \u001b[0mself\u001b[0m\u001b[0;34m.\u001b[0m\u001b[0m_getitem_multilevel\u001b[0m\u001b[0;34m(\u001b[0m\u001b[0mkey\u001b[0m\u001b[0;34m)\u001b[0m\u001b[0;34m\u001b[0m\u001b[0;34m\u001b[0m\u001b[0m\n\u001b[0;32m-> 3458\u001b[0;31m             \u001b[0mindexer\u001b[0m \u001b[0;34m=\u001b[0m \u001b[0mself\u001b[0m\u001b[0;34m.\u001b[0m\u001b[0mcolumns\u001b[0m\u001b[0;34m.\u001b[0m\u001b[0mget_loc\u001b[0m\u001b[0;34m(\u001b[0m\u001b[0mkey\u001b[0m\u001b[0;34m)\u001b[0m\u001b[0;34m\u001b[0m\u001b[0;34m\u001b[0m\u001b[0m\n\u001b[0m\u001b[1;32m   3459\u001b[0m             \u001b[0;32mif\u001b[0m \u001b[0mis_integer\u001b[0m\u001b[0;34m(\u001b[0m\u001b[0mindexer\u001b[0m\u001b[0;34m)\u001b[0m\u001b[0;34m:\u001b[0m\u001b[0;34m\u001b[0m\u001b[0;34m\u001b[0m\u001b[0m\n\u001b[1;32m   3460\u001b[0m                 \u001b[0mindexer\u001b[0m \u001b[0;34m=\u001b[0m \u001b[0;34m[\u001b[0m\u001b[0mindexer\u001b[0m\u001b[0;34m]\u001b[0m\u001b[0;34m\u001b[0m\u001b[0;34m\u001b[0m\u001b[0m\n",
      "\u001b[0;32m/Volumes/NEW/soil/myvenv7/lib/python3.7/site-packages/pandas/core/indexes/base.py\u001b[0m in \u001b[0;36mget_loc\u001b[0;34m(self, key, method, tolerance)\u001b[0m\n\u001b[1;32m   3361\u001b[0m                 \u001b[0;32mreturn\u001b[0m \u001b[0mself\u001b[0m\u001b[0;34m.\u001b[0m\u001b[0m_engine\u001b[0m\u001b[0;34m.\u001b[0m\u001b[0mget_loc\u001b[0m\u001b[0;34m(\u001b[0m\u001b[0mcasted_key\u001b[0m\u001b[0;34m)\u001b[0m\u001b[0;34m\u001b[0m\u001b[0;34m\u001b[0m\u001b[0m\n\u001b[1;32m   3362\u001b[0m             \u001b[0;32mexcept\u001b[0m \u001b[0mKeyError\u001b[0m \u001b[0;32mas\u001b[0m \u001b[0merr\u001b[0m\u001b[0;34m:\u001b[0m\u001b[0;34m\u001b[0m\u001b[0;34m\u001b[0m\u001b[0m\n\u001b[0;32m-> 3363\u001b[0;31m                 \u001b[0;32mraise\u001b[0m \u001b[0mKeyError\u001b[0m\u001b[0;34m(\u001b[0m\u001b[0mkey\u001b[0m\u001b[0;34m)\u001b[0m \u001b[0;32mfrom\u001b[0m \u001b[0merr\u001b[0m\u001b[0;34m\u001b[0m\u001b[0;34m\u001b[0m\u001b[0m\n\u001b[0m\u001b[1;32m   3364\u001b[0m \u001b[0;34m\u001b[0m\u001b[0m\n\u001b[1;32m   3365\u001b[0m         \u001b[0;32mif\u001b[0m \u001b[0mis_scalar\u001b[0m\u001b[0;34m(\u001b[0m\u001b[0mkey\u001b[0m\u001b[0;34m)\u001b[0m \u001b[0;32mand\u001b[0m \u001b[0misna\u001b[0m\u001b[0;34m(\u001b[0m\u001b[0mkey\u001b[0m\u001b[0;34m)\u001b[0m \u001b[0;32mand\u001b[0m \u001b[0;32mnot\u001b[0m \u001b[0mself\u001b[0m\u001b[0;34m.\u001b[0m\u001b[0mhasnans\u001b[0m\u001b[0;34m:\u001b[0m\u001b[0;34m\u001b[0m\u001b[0;34m\u001b[0m\u001b[0m\n",
      "\u001b[0;31mKeyError\u001b[0m: 'DOW'"
     ]
    }
   ],
   "source": [
    "\n",
    "#heatmap cant accept pandaconvert z has to be python list so we are converting it to it\n",
    "data = [go.Heatmap(x = df2[\"DOW\"], y = df2[\"Month\"], z=df2[\"segment1(10-30cm)\"].values.tolist())]\n",
    "\n",
    "layout = go.Layout(title=\"Heatmap Test\")\n",
    "\n",
    "fig = go.Figure(data = data, layout = layout)\n",
    "\n",
    "pyo.plot(fig)"
   ]
  },
  {
   "cell_type": "code",
   "execution_count": 23,
   "metadata": {},
   "outputs": [
    {
     "data": {
      "application/vnd.plotly.v1+json": {
       "config": {
        "plotlyServerURL": "https://plot.ly"
       },
       "data": [
        {
         "coloraxis": "coloraxis",
         "hovertemplate": "Hour: %{x}<br>DOW: %{y}<br>color: %{z}<extra></extra>",
         "name": "0",
         "type": "heatmap",
         "x": [
          0,
          1,
          2,
          3,
          4,
          5,
          6,
          7,
          8,
          9,
          10,
          11,
          12,
          13,
          14,
          15,
          16,
          17,
          18,
          19,
          20,
          21,
          22,
          23
         ],
         "xaxis": "x",
         "y": [
          "Friday",
          "Monday",
          "Saturday",
          "Sunday",
          "Thursday",
          "Tuesday",
          "Wednesday"
         ],
         "yaxis": "y",
         "z": [
          [
           69.01036231884058,
           69.01144927536232,
           69.0163043478261,
           68.99644927536232,
           68.99644927536232,
           68.9859420289855,
           69.01869565217392,
           69.11028985507247,
           69.09782608695652,
           69.04449275362319,
           68.99050724637682,
           68.96246376811594,
           68.9895652173913,
           69.01304347826087,
           69.12036231884058,
           69.21326086956522,
           69.21702898550726,
           69.20797101449276,
           69.20775362318841,
           69.42051851851852,
           69.17985507246377,
           69.1722463768116,
           69.16014492753624,
           69.16297101449275
          ],
          [
           68.95611111111111,
           68.97444444444444,
           69.08034722222222,
           69.20180555555555,
           69.2537062937063,
           69.21135714285714,
           69.16055555555556,
           69.1542361111111,
           69.12597222222222,
           69.09034722222222,
           69.07208333333332,
           69.03076388888888,
           68.96479166666667,
           68.90791666666667,
           69.00680555555556,
           68.98013888888889,
           68.95013888888889,
           68.93652777777778,
           68.94270833333333,
           68.97659722222221,
           69.24694444444444,
           69.39277777777778,
           69.38263888888889,
           69.36222222222221
          ],
          [
           69.14057971014492,
           69.1226811594203,
           69.09847826086957,
           69.09347826086956,
           69.08268115942029,
           69.05115942028985,
           69.03108695652175,
           69.02115942028986,
           68.98434782608696,
           68.95710144927536,
           69.10722627737226,
           69.7393984962406,
           68.95101449275361,
           68.88159420289855,
           68.8413768115942,
           68.95,
           69.26420289855074,
           69.30101449275362,
           69.3186231884058,
           68.7605223880597,
           68.111,
           69.32833333333333,
           69.32536231884058,
           69.34615942028987
          ],
          [
           69.36992753623188,
           69.37630434782609,
           69.36507246376812,
           69.35855072463768,
           69.36804347826087,
           69.35347826086957,
           69.33840579710146,
           69.31913043478262,
           69.24347826086957,
           69.26391304347825,
           69.2373188405797,
           69.14144927536232,
           69.09318840579711,
           69.02746376811594,
           68.98210144927536,
           68.9327536231884,
           68.91710144927536,
           68.86086956521739,
           68.84615942028987,
           68.84065217391304,
           68.84550724637681,
           68.84072463768116,
           68.84188405797101,
           68.83579710144927
          ],
          [
           69.26456521739131,
           69.24601449275363,
           69.22057971014493,
           69.20630434782608,
           69.1909420289855,
           69.1909420289855,
           69.1645652173913,
           69.16942028985507,
           69.20253623188407,
           69.26557971014492,
           69.25224637681158,
           69.2059420289855,
           69.21876811594203,
           69.16101449275362,
           69.10782608695652,
           69.24725925925925,
           69.00891304347826,
           69.01303703703704,
           68.95579710144928,
           69.0461313868613,
           69.31022556390978,
           68.98666666666666,
           69.00014492753624,
           68.9954347826087
          ],
          [
           68.51695652173913,
           68.52572463768115,
           68.55405797101449,
           68.60594202898551,
           68.72391304347826,
           68.8145652173913,
           68.78449275362318,
           68.74565217391304,
           68.72065217391305,
           68.72369565217392,
           68.81615942028985,
           68.80456521739131,
           68.81398550724637,
           69.14797101449275,
           69.40536231884059,
           69.47152173913044,
           69.44408759124087,
           69.45766917293234,
           69.4063768115942,
           69.4141304347826,
           69.42905797101449,
           69.43884057971015,
           69.43210144927535,
           69.43260869565218
          ],
          [
           69.43863309352517,
           69.46391304347826,
           69.4550724637681,
           69.42688405797101,
           69.44101449275362,
           69.44688405797102,
           69.42557971014493,
           69.3995652173913,
           69.2660447761194,
           69.30257352941176,
           69.33992753623188,
           69.35050724637682,
           69.4122463768116,
           69.46007299270073,
           69.49458646616542,
           69.48372262773722,
           69.89150375939849,
           69.28688405797102,
           69.25963768115942,
           69.27405797101449,
           69.33217391304348,
           69.34050724637682,
           69.32,
           69.28927536231885
          ]
         ]
        }
       ],
       "layout": {
        "coloraxis": {
         "colorscale": [
          [
           0,
           "#0d0887"
          ],
          [
           0.1111111111111111,
           "#46039f"
          ],
          [
           0.2222222222222222,
           "#7201a8"
          ],
          [
           0.3333333333333333,
           "#9c179e"
          ],
          [
           0.4444444444444444,
           "#bd3786"
          ],
          [
           0.5555555555555556,
           "#d8576b"
          ],
          [
           0.6666666666666666,
           "#ed7953"
          ],
          [
           0.7777777777777778,
           "#fb9f3a"
          ],
          [
           0.8888888888888888,
           "#fdca26"
          ],
          [
           1,
           "#f0f921"
          ]
         ]
        },
        "margin": {
         "t": 60
        },
        "template": {
         "data": {
          "bar": [
           {
            "error_x": {
             "color": "#2a3f5f"
            },
            "error_y": {
             "color": "#2a3f5f"
            },
            "marker": {
             "line": {
              "color": "#E5ECF6",
              "width": 0.5
             },
             "pattern": {
              "fillmode": "overlay",
              "size": 10,
              "solidity": 0.2
             }
            },
            "type": "bar"
           }
          ],
          "barpolar": [
           {
            "marker": {
             "line": {
              "color": "#E5ECF6",
              "width": 0.5
             },
             "pattern": {
              "fillmode": "overlay",
              "size": 10,
              "solidity": 0.2
             }
            },
            "type": "barpolar"
           }
          ],
          "carpet": [
           {
            "aaxis": {
             "endlinecolor": "#2a3f5f",
             "gridcolor": "white",
             "linecolor": "white",
             "minorgridcolor": "white",
             "startlinecolor": "#2a3f5f"
            },
            "baxis": {
             "endlinecolor": "#2a3f5f",
             "gridcolor": "white",
             "linecolor": "white",
             "minorgridcolor": "white",
             "startlinecolor": "#2a3f5f"
            },
            "type": "carpet"
           }
          ],
          "choropleth": [
           {
            "colorbar": {
             "outlinewidth": 0,
             "ticks": ""
            },
            "type": "choropleth"
           }
          ],
          "contour": [
           {
            "colorbar": {
             "outlinewidth": 0,
             "ticks": ""
            },
            "colorscale": [
             [
              0,
              "#0d0887"
             ],
             [
              0.1111111111111111,
              "#46039f"
             ],
             [
              0.2222222222222222,
              "#7201a8"
             ],
             [
              0.3333333333333333,
              "#9c179e"
             ],
             [
              0.4444444444444444,
              "#bd3786"
             ],
             [
              0.5555555555555556,
              "#d8576b"
             ],
             [
              0.6666666666666666,
              "#ed7953"
             ],
             [
              0.7777777777777778,
              "#fb9f3a"
             ],
             [
              0.8888888888888888,
              "#fdca26"
             ],
             [
              1,
              "#f0f921"
             ]
            ],
            "type": "contour"
           }
          ],
          "contourcarpet": [
           {
            "colorbar": {
             "outlinewidth": 0,
             "ticks": ""
            },
            "type": "contourcarpet"
           }
          ],
          "heatmap": [
           {
            "colorbar": {
             "outlinewidth": 0,
             "ticks": ""
            },
            "colorscale": [
             [
              0,
              "#0d0887"
             ],
             [
              0.1111111111111111,
              "#46039f"
             ],
             [
              0.2222222222222222,
              "#7201a8"
             ],
             [
              0.3333333333333333,
              "#9c179e"
             ],
             [
              0.4444444444444444,
              "#bd3786"
             ],
             [
              0.5555555555555556,
              "#d8576b"
             ],
             [
              0.6666666666666666,
              "#ed7953"
             ],
             [
              0.7777777777777778,
              "#fb9f3a"
             ],
             [
              0.8888888888888888,
              "#fdca26"
             ],
             [
              1,
              "#f0f921"
             ]
            ],
            "type": "heatmap"
           }
          ],
          "heatmapgl": [
           {
            "colorbar": {
             "outlinewidth": 0,
             "ticks": ""
            },
            "colorscale": [
             [
              0,
              "#0d0887"
             ],
             [
              0.1111111111111111,
              "#46039f"
             ],
             [
              0.2222222222222222,
              "#7201a8"
             ],
             [
              0.3333333333333333,
              "#9c179e"
             ],
             [
              0.4444444444444444,
              "#bd3786"
             ],
             [
              0.5555555555555556,
              "#d8576b"
             ],
             [
              0.6666666666666666,
              "#ed7953"
             ],
             [
              0.7777777777777778,
              "#fb9f3a"
             ],
             [
              0.8888888888888888,
              "#fdca26"
             ],
             [
              1,
              "#f0f921"
             ]
            ],
            "type": "heatmapgl"
           }
          ],
          "histogram": [
           {
            "marker": {
             "pattern": {
              "fillmode": "overlay",
              "size": 10,
              "solidity": 0.2
             }
            },
            "type": "histogram"
           }
          ],
          "histogram2d": [
           {
            "colorbar": {
             "outlinewidth": 0,
             "ticks": ""
            },
            "colorscale": [
             [
              0,
              "#0d0887"
             ],
             [
              0.1111111111111111,
              "#46039f"
             ],
             [
              0.2222222222222222,
              "#7201a8"
             ],
             [
              0.3333333333333333,
              "#9c179e"
             ],
             [
              0.4444444444444444,
              "#bd3786"
             ],
             [
              0.5555555555555556,
              "#d8576b"
             ],
             [
              0.6666666666666666,
              "#ed7953"
             ],
             [
              0.7777777777777778,
              "#fb9f3a"
             ],
             [
              0.8888888888888888,
              "#fdca26"
             ],
             [
              1,
              "#f0f921"
             ]
            ],
            "type": "histogram2d"
           }
          ],
          "histogram2dcontour": [
           {
            "colorbar": {
             "outlinewidth": 0,
             "ticks": ""
            },
            "colorscale": [
             [
              0,
              "#0d0887"
             ],
             [
              0.1111111111111111,
              "#46039f"
             ],
             [
              0.2222222222222222,
              "#7201a8"
             ],
             [
              0.3333333333333333,
              "#9c179e"
             ],
             [
              0.4444444444444444,
              "#bd3786"
             ],
             [
              0.5555555555555556,
              "#d8576b"
             ],
             [
              0.6666666666666666,
              "#ed7953"
             ],
             [
              0.7777777777777778,
              "#fb9f3a"
             ],
             [
              0.8888888888888888,
              "#fdca26"
             ],
             [
              1,
              "#f0f921"
             ]
            ],
            "type": "histogram2dcontour"
           }
          ],
          "mesh3d": [
           {
            "colorbar": {
             "outlinewidth": 0,
             "ticks": ""
            },
            "type": "mesh3d"
           }
          ],
          "parcoords": [
           {
            "line": {
             "colorbar": {
              "outlinewidth": 0,
              "ticks": ""
             }
            },
            "type": "parcoords"
           }
          ],
          "pie": [
           {
            "automargin": true,
            "type": "pie"
           }
          ],
          "scatter": [
           {
            "fillpattern": {
             "fillmode": "overlay",
             "size": 10,
             "solidity": 0.2
            },
            "type": "scatter"
           }
          ],
          "scatter3d": [
           {
            "line": {
             "colorbar": {
              "outlinewidth": 0,
              "ticks": ""
             }
            },
            "marker": {
             "colorbar": {
              "outlinewidth": 0,
              "ticks": ""
             }
            },
            "type": "scatter3d"
           }
          ],
          "scattercarpet": [
           {
            "marker": {
             "colorbar": {
              "outlinewidth": 0,
              "ticks": ""
             }
            },
            "type": "scattercarpet"
           }
          ],
          "scattergeo": [
           {
            "marker": {
             "colorbar": {
              "outlinewidth": 0,
              "ticks": ""
             }
            },
            "type": "scattergeo"
           }
          ],
          "scattergl": [
           {
            "marker": {
             "colorbar": {
              "outlinewidth": 0,
              "ticks": ""
             }
            },
            "type": "scattergl"
           }
          ],
          "scattermapbox": [
           {
            "marker": {
             "colorbar": {
              "outlinewidth": 0,
              "ticks": ""
             }
            },
            "type": "scattermapbox"
           }
          ],
          "scatterpolar": [
           {
            "marker": {
             "colorbar": {
              "outlinewidth": 0,
              "ticks": ""
             }
            },
            "type": "scatterpolar"
           }
          ],
          "scatterpolargl": [
           {
            "marker": {
             "colorbar": {
              "outlinewidth": 0,
              "ticks": ""
             }
            },
            "type": "scatterpolargl"
           }
          ],
          "scatterternary": [
           {
            "marker": {
             "colorbar": {
              "outlinewidth": 0,
              "ticks": ""
             }
            },
            "type": "scatterternary"
           }
          ],
          "surface": [
           {
            "colorbar": {
             "outlinewidth": 0,
             "ticks": ""
            },
            "colorscale": [
             [
              0,
              "#0d0887"
             ],
             [
              0.1111111111111111,
              "#46039f"
             ],
             [
              0.2222222222222222,
              "#7201a8"
             ],
             [
              0.3333333333333333,
              "#9c179e"
             ],
             [
              0.4444444444444444,
              "#bd3786"
             ],
             [
              0.5555555555555556,
              "#d8576b"
             ],
             [
              0.6666666666666666,
              "#ed7953"
             ],
             [
              0.7777777777777778,
              "#fb9f3a"
             ],
             [
              0.8888888888888888,
              "#fdca26"
             ],
             [
              1,
              "#f0f921"
             ]
            ],
            "type": "surface"
           }
          ],
          "table": [
           {
            "cells": {
             "fill": {
              "color": "#EBF0F8"
             },
             "line": {
              "color": "white"
             }
            },
            "header": {
             "fill": {
              "color": "#C8D4E3"
             },
             "line": {
              "color": "white"
             }
            },
            "type": "table"
           }
          ]
         },
         "layout": {
          "annotationdefaults": {
           "arrowcolor": "#2a3f5f",
           "arrowhead": 0,
           "arrowwidth": 1
          },
          "autotypenumbers": "strict",
          "coloraxis": {
           "colorbar": {
            "outlinewidth": 0,
            "ticks": ""
           }
          },
          "colorscale": {
           "diverging": [
            [
             0,
             "#8e0152"
            ],
            [
             0.1,
             "#c51b7d"
            ],
            [
             0.2,
             "#de77ae"
            ],
            [
             0.3,
             "#f1b6da"
            ],
            [
             0.4,
             "#fde0ef"
            ],
            [
             0.5,
             "#f7f7f7"
            ],
            [
             0.6,
             "#e6f5d0"
            ],
            [
             0.7,
             "#b8e186"
            ],
            [
             0.8,
             "#7fbc41"
            ],
            [
             0.9,
             "#4d9221"
            ],
            [
             1,
             "#276419"
            ]
           ],
           "sequential": [
            [
             0,
             "#0d0887"
            ],
            [
             0.1111111111111111,
             "#46039f"
            ],
            [
             0.2222222222222222,
             "#7201a8"
            ],
            [
             0.3333333333333333,
             "#9c179e"
            ],
            [
             0.4444444444444444,
             "#bd3786"
            ],
            [
             0.5555555555555556,
             "#d8576b"
            ],
            [
             0.6666666666666666,
             "#ed7953"
            ],
            [
             0.7777777777777778,
             "#fb9f3a"
            ],
            [
             0.8888888888888888,
             "#fdca26"
            ],
            [
             1,
             "#f0f921"
            ]
           ],
           "sequentialminus": [
            [
             0,
             "#0d0887"
            ],
            [
             0.1111111111111111,
             "#46039f"
            ],
            [
             0.2222222222222222,
             "#7201a8"
            ],
            [
             0.3333333333333333,
             "#9c179e"
            ],
            [
             0.4444444444444444,
             "#bd3786"
            ],
            [
             0.5555555555555556,
             "#d8576b"
            ],
            [
             0.6666666666666666,
             "#ed7953"
            ],
            [
             0.7777777777777778,
             "#fb9f3a"
            ],
            [
             0.8888888888888888,
             "#fdca26"
            ],
            [
             1,
             "#f0f921"
            ]
           ]
          },
          "colorway": [
           "#636efa",
           "#EF553B",
           "#00cc96",
           "#ab63fa",
           "#FFA15A",
           "#19d3f3",
           "#FF6692",
           "#B6E880",
           "#FF97FF",
           "#FECB52"
          ],
          "font": {
           "color": "#2a3f5f"
          },
          "geo": {
           "bgcolor": "white",
           "lakecolor": "white",
           "landcolor": "#E5ECF6",
           "showlakes": true,
           "showland": true,
           "subunitcolor": "white"
          },
          "hoverlabel": {
           "align": "left"
          },
          "hovermode": "closest",
          "mapbox": {
           "style": "light"
          },
          "paper_bgcolor": "white",
          "plot_bgcolor": "#E5ECF6",
          "polar": {
           "angularaxis": {
            "gridcolor": "white",
            "linecolor": "white",
            "ticks": ""
           },
           "bgcolor": "#E5ECF6",
           "radialaxis": {
            "gridcolor": "white",
            "linecolor": "white",
            "ticks": ""
           }
          },
          "scene": {
           "xaxis": {
            "backgroundcolor": "#E5ECF6",
            "gridcolor": "white",
            "gridwidth": 2,
            "linecolor": "white",
            "showbackground": true,
            "ticks": "",
            "zerolinecolor": "white"
           },
           "yaxis": {
            "backgroundcolor": "#E5ECF6",
            "gridcolor": "white",
            "gridwidth": 2,
            "linecolor": "white",
            "showbackground": true,
            "ticks": "",
            "zerolinecolor": "white"
           },
           "zaxis": {
            "backgroundcolor": "#E5ECF6",
            "gridcolor": "white",
            "gridwidth": 2,
            "linecolor": "white",
            "showbackground": true,
            "ticks": "",
            "zerolinecolor": "white"
           }
          },
          "shapedefaults": {
           "line": {
            "color": "#2a3f5f"
           }
          },
          "ternary": {
           "aaxis": {
            "gridcolor": "white",
            "linecolor": "white",
            "ticks": ""
           },
           "baxis": {
            "gridcolor": "white",
            "linecolor": "white",
            "ticks": ""
           },
           "bgcolor": "#E5ECF6",
           "caxis": {
            "gridcolor": "white",
            "linecolor": "white",
            "ticks": ""
           }
          },
          "title": {
           "x": 0.05
          },
          "xaxis": {
           "automargin": true,
           "gridcolor": "white",
           "linecolor": "white",
           "ticks": "",
           "title": {
            "standoff": 15
           },
           "zerolinecolor": "white",
           "zerolinewidth": 2
          },
          "yaxis": {
           "automargin": true,
           "gridcolor": "white",
           "linecolor": "white",
           "ticks": "",
           "title": {
            "standoff": 15
           },
           "zerolinecolor": "white",
           "zerolinewidth": 2
          }
         }
        },
        "xaxis": {
         "anchor": "y",
         "constrain": "domain",
         "domain": [
          0,
          1
         ],
         "scaleanchor": "y",
         "side": "top",
         "title": {
          "text": "Hour"
         }
        },
        "yaxis": {
         "anchor": "x",
         "autorange": "reversed",
         "constrain": "domain",
         "domain": [
          0,
          1
         ],
         "title": {
          "text": "DOW"
         }
        }
       }
      }
     },
     "metadata": {},
     "output_type": "display_data"
    }
   ],
   "source": [
    "df2= df.groupby(by = [\"DOW\", \"Hour\"]).mean()['segment1(10-30cm)'].unstack()\n",
    "fig = px.imshow(df2\n",
    "    )\n",
    "    \n",
    "fig.update_xaxes(side=\"top\")\n",
    "fig.show()"
   ]
  },
  {
   "cell_type": "code",
   "execution_count": 25,
   "metadata": {},
   "outputs": [
    {
     "data": {
      "text/plain": [
       "Index(['Friday', 'Monday', 'Saturday', 'Sunday', 'Thursday', 'Tuesday',\n",
       "       'Wednesday'],\n",
       "      dtype='object', name='DOW')"
      ]
     },
     "execution_count": 25,
     "metadata": {},
     "output_type": "execute_result"
    }
   ],
   "source": [
    "df2.index"
   ]
  },
  {
   "cell_type": "code",
   "execution_count": null,
   "metadata": {},
   "outputs": [],
   "source": []
  }
 ],
 "metadata": {
  "kernelspec": {
   "display_name": "Python 3.7.16 ('myvenv7': venv)",
   "language": "python",
   "name": "python3"
  },
  "language_info": {
   "codemirror_mode": {
    "name": "ipython",
    "version": 3
   },
   "file_extension": ".py",
   "mimetype": "text/x-python",
   "name": "python",
   "nbconvert_exporter": "python",
   "pygments_lexer": "ipython3",
   "version": "3.7.16"
  },
  "orig_nbformat": 4,
  "vscode": {
   "interpreter": {
    "hash": "31bb4c15616a485abeecdf5ce440d967dc0e56758a5a6ad13dad76fe3a2a10da"
   }
  }
 },
 "nbformat": 4,
 "nbformat_minor": 2
}
